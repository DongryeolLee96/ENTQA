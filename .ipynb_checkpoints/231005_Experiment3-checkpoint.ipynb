{
 "cells": [
  {
   "cell_type": "markdown",
   "id": "b87c6a39",
   "metadata": {},
   "source": [
    "### Eval model"
   ]
  },
  {
   "cell_type": "code",
   "execution_count": 1,
   "id": "584bb1ee",
   "metadata": {},
   "outputs": [],
   "source": [
    "import json\n",
    "import numpy as np"
   ]
  },
  {
   "cell_type": "code",
   "execution_count": 2,
   "id": "00bbb111",
   "metadata": {},
   "outputs": [
    {
     "name": "stderr",
     "output_type": "stream",
     "text": [
      "/home/donaldo9603/.conda/envs/numeric/lib/python3.11/site-packages/tqdm/auto.py:21: TqdmWarning: IProgress not found. Please update jupyter and ipywidgets. See https://ipywidgets.readthedocs.io/en/stable/user_install.html\n",
      "  from .autonotebook import tqdm as notebook_tqdm\n",
      "Special tokens have been added in the vocabulary, make sure the associated word embeddings are fine-tuned or trained.\n",
      "/home/donaldo9603/.conda/envs/numeric/lib/python3.11/site-packages/transformers/convert_slow_tokenizer.py:470: UserWarning: The sentencepiece tokenizer that you are converting to a fast tokenizer uses the byte fallback option which is not implemented in the fast tokenizers. In practice this means that the fast version of the tokenizer can produce unknown tokens whereas the sentencepiece version would have converted these unknown tokens into a sequence of byte tokens matching the original piece of text.\n",
      "  warnings.warn(\n",
      "Special tokens have been added in the vocabulary, make sure the associated word embeddings are fine-tuned or trained.\n"
     ]
    }
   ],
   "source": [
    "from eval import num_integ_score, num_deberta_score, bem_score"
   ]
  },
  {
   "cell_type": "code",
   "execution_count": 28,
   "id": "4ee92c65",
   "metadata": {},
   "outputs": [],
   "source": [
    "#emdr\n",
    "#prediction_file_dir='/home/donaldo9603/workspace/numeric/data/nq/500samples/emdr/8502_nq_num_500_emdr.json'\n",
    "\n",
    "#InstGPT_few\n",
    "#prediction_file_dir='/home/donaldo9603/workspace/numeric/data/nq/500samples/instgpt/8504_nq_num_500_inst3_few.json'\n",
    "\n",
    "#InstGPT_zero\n",
    "#prediction_file_dir='/home/donaldo9603/workspace/numeric/data/nq/500samples/instgpt/8506_nq_num_500_inst3_zero.json'\n",
    "\n",
    "#LLAMA2_few\n",
    "#prediction_file_dir='/home/donaldo9603/workspace/numeric/data/nq/500samples/llama2/8508_nq_dev_num_500_llama2_few.json'\n",
    "\n",
    "#LLAMA2_zero\n",
    "#prediction_file_dir='/home/donaldo9603/workspace/numeric/data/nq/500samples/llama2/8510_nq_dev_num_500_llama2_zero.json'\n",
    "#R2D2\n",
    "\n",
    "prediction_file_dir='/home/donaldo9603/workspace/numeric/data/nq/500samples/r2d2/8512_nq_num_500_r2d2.json'\n"
   ]
  },
  {
   "cell_type": "code",
   "execution_count": 29,
   "id": "be17b4a5",
   "metadata": {},
   "outputs": [],
   "source": [
    "with open(prediction_file_dir) as f:\n",
    "    val=json.load(f)"
   ]
  },
  {
   "cell_type": "code",
   "execution_count": 30,
   "id": "33e7c6c5",
   "metadata": {},
   "outputs": [],
   "source": [
    "human_label_cnt=0\n",
    "\n",
    "emnem_hum=0\n",
    "nem_hum=0\n",
    "bem_hum=0\n",
    "\n",
    "human_pred=[]\n",
    "emnem_pred=[]\n",
    "nem_integ_pred=[]\n",
    "bem_pred=[]"
   ]
  },
  {
   "cell_type": "code",
   "execution_count": 31,
   "id": "1c2a0ece",
   "metadata": {},
   "outputs": [
    {
     "name": "stdout",
     "output_type": "stream",
     "text": [
      "Human: 0.628\n",
      "NEM_integ: 0.658\n",
      "EM+NEM_integ: 0.662\n"
     ]
    }
   ],
   "source": [
    "for d in val:\n",
    "    human_pred.append(d['human'])\n",
    "    emnem_pred.append(d['em'] if d['em']==1 else num_integ_score(d['prediction'], d['answer'], d['question']))\n",
    "    nem_integ_pred.append(num_integ_score(d['prediction'], d['answer'], d['question']))\n",
    "    bem_pred.append(bem_score(d['prediction'], d['answer'], d['question']))\n",
    "print('Human: %5.3f' %(np.mean(human_pred)))\n",
    "print('NEM_integ: %5.3f' %(np.mean(nem_integ_pred)))\n",
    "print('EM+NEM_integ: %5.3f' %(np.mean(emnem_pred)))\n"
   ]
  },
  {
   "cell_type": "markdown",
   "id": "8e222ae1",
   "metadata": {},
   "source": [
    "### Against Human"
   ]
  },
  {
   "cell_type": "code",
   "execution_count": 32,
   "id": "44309265",
   "metadata": {},
   "outputs": [
    {
     "name": "stdout",
     "output_type": "stream",
     "text": [
      "NEM_integ accuracy against human: 0.890\n",
      "BEM_integ accuracy against human: 0.890\n"
     ]
    }
   ],
   "source": [
    "for idx in range(len(val)):\n",
    "    if human_pred[idx]==emnem_pred[idx]:\n",
    "        emnem_hum+=1\n",
    "    if human_pred[idx]==nem_integ_pred[idx]:\n",
    "        nem_hum+=1\n",
    "    if human_pred[idx]==bem_pred[idx]:\n",
    "        bem_hum+=1\n",
    "print('NEM_integ accuracy against human: %5.3f' %(nem_hum/len(val)))\n",
    "print('BEM_integ accuracy against human: %5.3f' %(bem_hum/len(val)))\n"
   ]
  },
  {
   "cell_type": "code",
   "execution_count": 33,
   "id": "ecd6f7f5",
   "metadata": {},
   "outputs": [],
   "source": [
    "dev_dir='/home/donaldo9603/workspace/numeric/data/ours/numeric_dev.jsonl'"
   ]
  },
  {
   "cell_type": "code",
   "execution_count": 3,
   "id": "79bb1f6d",
   "metadata": {},
   "outputs": [],
   "source": [
    "dev=[]\n",
    "with jsonlines.open(dev_dir) as f:\n",
    "    for line in f:\n",
    "        dev.append(line)"
   ]
  },
  {
   "cell_type": "code",
   "execution_count": 4,
   "id": "8f8ef2ff",
   "metadata": {},
   "outputs": [
    {
     "data": {
      "text/plain": [
       "{'question': 'when did the florin cease to be legal tender',\n",
       " 'reference': '30 June 1993',\n",
       " 'candidate': '30/06/1993',\n",
       " 'score': 1.0}"
      ]
     },
     "execution_count": 4,
     "metadata": {},
     "output_type": "execute_result"
    }
   ],
   "source": [
    "dev[0]"
   ]
  },
  {
   "cell_type": "code",
   "execution_count": 9,
   "id": "bfb0ee11",
   "metadata": {},
   "outputs": [],
   "source": [
    "from eval import f1_thereshold, return_bertscore, num_integ_score, bem_score"
   ]
  },
  {
   "cell_type": "code",
   "execution_count": 10,
   "id": "d438a6f8",
   "metadata": {},
   "outputs": [],
   "source": [
    "from tqdm import tqdm"
   ]
  },
  {
   "cell_type": "markdown",
   "id": "5a8924c2",
   "metadata": {},
   "source": [
    "### F1, BERTSCORE"
   ]
  },
  {
   "cell_type": "code",
   "execution_count": 15,
   "id": "260621b8",
   "metadata": {},
   "outputs": [
    {
     "name": "stderr",
     "output_type": "stream",
     "text": [
      "100%|██████████| 2852/2852 [00:00<00:00, 95204.46it/s]"
     ]
    },
    {
     "name": "stdout",
     "output_type": "stream",
     "text": [
      "F1 score: 0.552\n"
     ]
    },
    {
     "name": "stderr",
     "output_type": "stream",
     "text": [
      "\n"
     ]
    }
   ],
   "source": [
    "f1_cnt=0\n",
    "for d in tqdm(dev):\n",
    "    \n",
    "    f1=f1_thereshold(d['candidate'], d['reference'])\n",
    "    if int(d['score'])==f1:\n",
    "        f1_cnt+=1\n",
    "print('F1 score: %5.3f' %(f1_cnt/len(dev)))\n"
   ]
  },
  {
   "cell_type": "code",
   "execution_count": 21,
   "id": "4f7e5084",
   "metadata": {},
   "outputs": [],
   "source": [
    "from evaluate import load"
   ]
  },
  {
   "cell_type": "code",
   "execution_count": 24,
   "id": "4d13227f",
   "metadata": {},
   "outputs": [],
   "source": [
    "score=load('bertscore')"
   ]
  },
  {
   "cell_type": "code",
   "execution_count": 30,
   "id": "b0cc10c1",
   "metadata": {},
   "outputs": [
    {
     "name": "stderr",
     "output_type": "stream",
     "text": [
      "100%|██████████| 2852/2852 [50:04<00:00,  1.05s/it]  \n"
     ]
    }
   ],
   "source": [
    "bs_cnt=0\n",
    "for d in tqdm(dev):\n",
    "    bert=score.compute(predictions=[d['candidate']], references=[d['reference']], model_type ='bert-base-uncased')\n",
    "    bs=1 if bert['f1'][0]>=0.5 else 0\n",
    "    if int(d['score'])==bs:\n",
    "        bs_cnt+=1"
   ]
  },
  {
   "cell_type": "code",
   "execution_count": 31,
   "id": "05197cbf",
   "metadata": {},
   "outputs": [
    {
     "name": "stdout",
     "output_type": "stream",
     "text": [
      "0.45161290322580644\n"
     ]
    }
   ],
   "source": [
    "print(bs_cnt/len(dev))"
   ]
  },
  {
   "cell_type": "markdown",
   "id": "2babf22c",
   "metadata": {},
   "source": [
    "### BEM"
   ]
  },
  {
   "cell_type": "code",
   "execution_count": 13,
   "id": "3f8b2a0e",
   "metadata": {},
   "outputs": [
    {
     "name": "stderr",
     "output_type": "stream",
     "text": [
      "100%|██████████| 2852/2852 [00:19<00:00, 144.88it/s]"
     ]
    },
    {
     "name": "stdout",
     "output_type": "stream",
     "text": [
      "BEM score: 0.540\n"
     ]
    },
    {
     "name": "stderr",
     "output_type": "stream",
     "text": [
      "\n"
     ]
    }
   ],
   "source": [
    "bem_cnt=0\n",
    "for d in tqdm(dev):\n",
    "    bem=bem_score(d['candidate'], [d['reference']], d['question'])\n",
    "    if int(d['score'])==bem:\n",
    "        bem_cnt+=1\n",
    "print('BEM score: %5.3f' %(bem_cnt/len(dev)))\n"
   ]
  },
  {
   "cell_type": "markdown",
   "id": "4eda634e",
   "metadata": {},
   "source": [
    "### NEM Integ"
   ]
  },
  {
   "cell_type": "code",
   "execution_count": 14,
   "id": "9171b7f1",
   "metadata": {},
   "outputs": [
    {
     "name": "stderr",
     "output_type": "stream",
     "text": [
      "100%|██████████| 2852/2852 [00:19<00:00, 143.23it/s]"
     ]
    },
    {
     "name": "stdout",
     "output_type": "stream",
     "text": [
      "NEM score: 0.935\n"
     ]
    },
    {
     "name": "stderr",
     "output_type": "stream",
     "text": [
      "\n"
     ]
    }
   ],
   "source": [
    "nem_cnt=0\n",
    "for d in tqdm(dev):\n",
    "    nem=num_integ_score(d['candidate'], [d['reference']], d['question'])\n",
    "    if int(d['score'])==nem:\n",
    "        nem_cnt+=1\n",
    "print('NEM score: %5.3f' %(nem_cnt/len(dev)))\n"
   ]
  },
  {
   "cell_type": "code",
   "execution_count": null,
   "id": "7ed19d4d",
   "metadata": {},
   "outputs": [],
   "source": []
  }
 ],
 "metadata": {
  "kernelspec": {
   "display_name": "Python [conda:.conda-numeric]",
   "language": "python",
   "name": "conda-env-.conda-numeric-py"
  },
  "language_info": {
   "codemirror_mode": {
    "name": "ipython",
    "version": 3
   },
   "file_extension": ".py",
   "mimetype": "text/x-python",
   "name": "python",
   "nbconvert_exporter": "python",
   "pygments_lexer": "ipython3",
   "version": "3.11.5"
  }
 },
 "nbformat": 4,
 "nbformat_minor": 5
}
