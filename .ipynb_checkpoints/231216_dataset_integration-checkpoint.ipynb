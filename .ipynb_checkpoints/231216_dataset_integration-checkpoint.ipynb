{
 "cells": [
  {
   "cell_type": "code",
   "execution_count": 21,
   "id": "eb37c881",
   "metadata": {},
   "outputs": [],
   "source": [
    "import json"
   ]
  },
  {
   "cell_type": "code",
   "execution_count": 134,
   "id": "adaa79b7",
   "metadata": {},
   "outputs": [],
   "source": [
    "#nq_dir='/home/donaldo9603/workspace/numeric/gptexpansion/out/51097/NQ_eval.json'\n",
    "nq_dir='/home/donaldo9603/workspace/numeric/naacl2024/data/nq_integ.json'"
   ]
  },
  {
   "cell_type": "code",
   "execution_count": 135,
   "id": "2865c51e",
   "metadata": {},
   "outputs": [],
   "source": [
    "with open(nq_dir) as f:\n",
    "    nq=json.load(f)"
   ]
  },
  {
   "cell_type": "code",
   "execution_count": 136,
   "id": "87c58368",
   "metadata": {},
   "outputs": [
    {
     "data": {
      "text/plain": [
       "dict_keys(['question', 'golden_answer', 'answer_fid', 'judge_fid', 'answer_gpt35', 'judge_gpt35', 'answer_chatgpt', 'judge_chatgpt', 'answer_gpt4', 'judge_gpt4', 'answer_newbing', 'judge_newbing', 'improper', 'ans_type', 'fb', 'inst_entity_input', 'inst_entity', 'inst_random_input', 'inst_random', 'inst_zero', 'insteval_gpt35_input', 'insteval_gpt35', 'insteval_chatgpt_input', 'insteval_chatgpt', 'insteval_newbing_input', 'insteval_newbing', 'insteval_fid_input', 'insteval_fid', 'insteval_gpt4_input', 'insteval_gpt4'])"
      ]
     },
     "execution_count": 136,
     "metadata": {},
     "output_type": "execute_result"
    }
   ],
   "source": [
    "nq[0].keys()"
   ]
  },
  {
   "cell_type": "code",
   "execution_count": 153,
   "id": "57021047",
   "metadata": {},
   "outputs": [],
   "source": [
    "insteval_dir='/home/donaldo9603/workspace/numeric/gpteval_inst/out/50614/NQ_eval.json'\n",
    "model='gpt4'"
   ]
  },
  {
   "cell_type": "code",
   "execution_count": 154,
   "id": "a15a4f5b",
   "metadata": {},
   "outputs": [],
   "source": [
    "with open(insteval_dir) as f:\n",
    "    insteval=json.load(f)"
   ]
  },
  {
   "cell_type": "code",
   "execution_count": 155,
   "id": "2f7af4c4",
   "metadata": {},
   "outputs": [
    {
     "data": {
      "text/plain": [
       "dict_keys(['question', 'golden_answer', 'answer_fid', 'judge_fid', 'answer_gpt35', 'judge_gpt35', 'answer_chatgpt', 'judge_chatgpt', 'answer_gpt4', 'judge_gpt4', 'answer_newbing', 'judge_newbing', 'improper', 'ans_type', 'expand', 'fb', 'hardem_gpt4', 'softem_gpt4', 'f1_gpt4', 'bem_gpt4', 'instzero_gpt4', 'instzero_gpt4_prompt'])"
      ]
     },
     "execution_count": 155,
     "metadata": {},
     "output_type": "execute_result"
    }
   ],
   "source": [
    "insteval[0].keys()"
   ]
  },
  {
   "cell_type": "code",
   "execution_count": 156,
   "id": "6059214a",
   "metadata": {},
   "outputs": [],
   "source": [
    "for idx, d in enumerate(nq):\n",
    "    if not (insteval[idx]['question']==d['question']):\n",
    "        print(d['question'])\n",
    "    #assert (insteval[idx]['question']==d['question'])\n",
    "    d['insteval_{}_input'.format(model)]=insteval[idx]['instzero_{}_prompt'.format(model)]\n",
    "    d['insteval_{}'.format(model)]=insteval[idx]['instzero_{}'.format(model)]"
   ]
  },
  {
   "cell_type": "code",
   "execution_count": 157,
   "id": "5e21f434",
   "metadata": {},
   "outputs": [
    {
     "data": {
      "text/plain": [
       "{'question': 'who got the first nobel prize in physics',\n",
       " 'golden_answer': ['Wilhelm Conrad Röntgen'],\n",
       " 'answer_fid': 'Wilhelm Röntgen',\n",
       " 'judge_fid': True,\n",
       " 'answer_gpt35': 'The first Nobel Prize in Physics was awarded to Wilhelm Röntgen in 1901.',\n",
       " 'judge_gpt35': True,\n",
       " 'answer_chatgpt': 'The first Nobel Prize in Physics was awarded in 1901 to Wilhelm Röntgen for his discovery of X-rays.',\n",
       " 'judge_chatgpt': True,\n",
       " 'answer_gpt4': 'The first Nobel Prize in Physics was awarded in 1901 to Wilhelm Conrad Röntgen, a German physicist. He received the prize for his discovery of X-rays, a groundbreaking achievement that revolutionized the fields of medicine, physics, and chemistry.',\n",
       " 'judge_gpt4': True,\n",
       " 'answer_newbing': 'According to Wikipedia, Wilhelm Conrad Röntgen of Germany got the first Nobel Prize in Physics in 1901 for his discovery of X-rays.  He received 150,782 SEK (Swedish krona) as the prize money.',\n",
       " 'judge_newbing': True,\n",
       " 'improper': False,\n",
       " 'ans_type': 'PERSON',\n",
       " 'fb': ['Wilhelm Conrad Röntgen', 'wilhelm conrad röntgen'],\n",
       " 'inst_entity_input': 'You are a given a question and a set of gold-standard reference answers (split with /) written by experts. Your task is to provide other forms of gold reference answers that can also be correct for the given question. Split your answers with /.\\nQuestion: who plays the bad guy in fifth element\\nGold Answers: Gary Oldman/Gary L. Oldman/Gary Leonard Oldman/Gary/Oldman\\nQuestion: who does tess end up with on mcleods daughters\\nGold Answers: Nick/Ryan/Nick Ryan\\nQuestion: who played mario in the super mario movie\\nGold Answers: Bob Hoskins/Hoskins/Robert Hoskins/Robert William Hoskins/Robert W. Hoskins\\nQuestion: who holds the record for eating hot dogs\\nGold Answers: Takeru Kobayashi/Kobayashi/Takeru \"Tsunami\" Kobayashi/Kobayashi Takeru\\nQuestion: who has played chad dimera on days of our lives\\nGold Answers: Billy Flynn/Casey Jon Deidrick/William Flynn/Casey Deidrick/Casey J. Deidrick\\nQuestion: who ran the fastest 40 time in nfl history\\nGold Answers: Bo Jackson/Vincent Edward \"Bo\" Jackson/Jackson\\nQuestion: who does vin diesel play in fast and furious 6\\nGold Answers: Dominic Toretto/Torreto/Dominic \"Dom\" Toretto\\nQuestion: who played hey girl on have gun will travel\\nGold Answers: Lisa Lu/Lisa Lu Yan/Lu\\nQuestion: who got the first nobel prize in physics\\nGold Answers: Wilhelm Conrad Röntgen/',\n",
       " 'inst_entity': ['Wilhelm Conrad Röntgen',\n",
       "  'Conrad Röntgen',\n",
       "  'Wilhelm Röntgen',\n",
       "  'Röntgen',\n",
       "  'Wilhelm C. Röntgen'],\n",
       " 'inst_random_input': \"You are a given a question and a set of gold-standard reference answers (split with /) written by experts. Your task is to provide other forms of gold reference answers that can also be correct for the given question. Split your answers with /.\\nQuestion: where does the movie great outdoors take place\\nGold Answers:  Wisconsin/Montana/Colorado/Minnesota/California/Wisconsin/Oregon\\nQuestion: when did mc hammer can't touch this\\nGold Answers: 1990-01-13T00:00:00.000000000/January 13, 1990/1990-01-13T00:00:00.000Z/1990-01-13T00:00:00.000000Z/1990-01/1990-01-13T00:00:00Z/1990/1990-01-13/1990-01-13T00:00:00.000000000000Z/1990-01-13T00:00:00/1990-01-13T00:00:00.000000/1990-01-13T00:00:00.000000000000/1990-01-13T00:00:00.000000000Z\\nQuestion: what's the most home runs hit in the home run derby\\nGold Answers: 91\\nQuestion: who played nanny in nanny and the professor\\nGold Answers: Juliet/Juliet Mills/Gold Answers: Juliet Mills\\nQuestion: how many secondary schools are there in wales\\nGold Answers: There are 205 secondary schools in Wales./205\\nQuestion: where was the battle of bunker hill actually fought\\nGold Answers: Boston/Gold Answers: Breed's Hill/Charlestown, Boston/Bunker Hill, Charlestown/ Bunker Hill/Breed's Hill, Bunker Hill/Breed's Hill\\nQuestion: who played the little boy in close encounters of the third kind\\nGold Answers: Barry Gufton III/Cary Guffey/Barry Gufton Jr./Barry Gufton\\nQuestion: who has been nominated for the most best actor oscars\\nGold Answers: Tom Hanks/ Spencer Tracy/Spencer Tracy/F. Murray Abraham/Burt Lancaster/Laurence Olivier/Marlon Brando/Lee Marvin/Gene Hackman/Yul Brynner/Gregory Peck/Al Pacino/Paul Newman/Rex Harrison/Fredric March/John Wayne/Dustin Hoffman/Peter O'Toole/Paul/Sean Penn/Clark Gable/Walter Matthau/James Stewart/George C. Scott/Maximilian Schell/William Holden/Gary Cooper/Charlton Heston/Jon Voight/Peter Finch/Ben Kingsley/Robert Duvall/Art Carney/Alec Guinness/Cliff Robertson/Jack Lemmon/Jack Nicholson/Denzel Washington/Richard Burton/Peter Sellers/Daniel Day-Lewis/Rod Steiger/Sidney Poitier/William Hurt/Anthony Hopkins/Robert De Niro\\nQuestion: who got the first nobel prize in physics\\nGold Answers: Wilhelm Conrad Röntgen/\",\n",
       " 'inst_random': ['Wilhelm Conrad Röntgen',\n",
       "  ' Wilhelm Röntgen',\n",
       "  'Wilhelm Conrad Röntgen',\n",
       "  'Wilhelm Röntgen',\n",
       "  'Wilhelm Conrad Röntgen',\n",
       "  'Wilhelm Röntgen',\n",
       "  'Wilhelm Conrad Röntgen',\n",
       "  'Wilhelm Röntgen',\n",
       "  'Wilhelm Conrad Röntgen',\n",
       "  'Wilhelm Röntgen',\n",
       "  'Wilhelm Conrad Röntgen',\n",
       "  'Wilhelm Röntgen',\n",
       "  'Wilhelm Conrad Röntgen',\n",
       "  'Wilhelm Röntgen',\n",
       "  'Wilhelm Conrad Röntgen',\n",
       "  'Wilhelm Röntgen',\n",
       "  'Wilhelm Conrad Röntgen',\n",
       "  'Wilhelm Röntgen',\n",
       "  'Wilhelm Conrad Röntgen',\n",
       "  'Wilhelm Röntgen',\n",
       "  'Wilhelm Conrad Röntgen',\n",
       "  'Wilhelm Röntgen',\n",
       "  'Wilhelm Conrad Röntgen',\n",
       "  'Wilhelm Röntgen',\n",
       "  'Wilhelm Conrad Röntgen',\n",
       "  'Wilhelm Röntgen',\n",
       "  'Wilhelm Conrad Röntgen',\n",
       "  'Wilhelm Röntgen'],\n",
       " 'inst_zero': ['Wilhelm Conrad Röntgen',\n",
       "  ' Marie Sklodowska-Curie',\n",
       "  'Galileo Galilei',\n",
       "  'Max Planck',\n",
       "  'Ernest Lawrence',\n",
       "  'Marie Curie',\n",
       "  'Enrico Fermi',\n",
       "  'Isaac Newton',\n",
       "  ' Wilhelm Rontgen',\n",
       "  'Niels Bohr',\n",
       "  'Ernest Rutherford',\n",
       "  'Albert Einstein'],\n",
       " 'insteval_gpt35_input': 'You are a given a question, a set of gold-standard reference answers (split with /) written by experts, and a candidate answer. Please judge whether the candidate answer is correct for the question considering the gold answers, simply answer Yes or No.\\nQuestion: who got the first nobel prize in physics\\nGold Answers: Wilhelm Conrad Röntgen\\nCandidate Answer: The first Nobel Prize in Physics was awarded to Wilhelm Röntgen in 1901.\\n',\n",
       " 'insteval_gpt35': 'Yes',\n",
       " 'insteval_chatgpt_input': 'You are a given a question, a set of gold-standard reference answers (split with /) written by experts, and a candidate answer. Please judge whether the candidate answer is correct for the question considering the gold answers, simply answer Yes or No.\\nQuestion: who got the first nobel prize in physics\\nGold Answers: Wilhelm Conrad Röntgen\\nCandidate Answer: The first Nobel Prize in Physics was awarded in 1901 to Wilhelm Röntgen for his discovery of X-rays.\\n',\n",
       " 'insteval_chatgpt': '\\nYes',\n",
       " 'insteval_newbing_input': 'You are a given a question, a set of gold-standard reference answers (split with /) written by experts, and a candidate answer. Please judge whether the candidate answer is correct for the question considering the gold answers, simply answer Yes or No.\\nQuestion: who got the first nobel prize in physics\\nGold Answers: Wilhelm Conrad Röntgen\\nCandidate Answer: According to Wikipedia, Wilhelm Conrad Röntgen of Germany got the first Nobel Prize in Physics in 1901 for his discovery of X-rays.  He received 150,782 SEK (Swedish krona) as the prize money.\\n',\n",
       " 'insteval_newbing': 'Yes',\n",
       " 'insteval_fid_input': 'You are a given a question, a set of gold-standard reference answers (split with /) written by experts, and a candidate answer. Please judge whether the candidate answer is correct for the question considering the gold answers, simply answer Yes or No.\\nQuestion: who got the first nobel prize in physics\\nGold Answers: Wilhelm Conrad Röntgen\\nCandidate Answer: Wilhelm Röntgen\\n',\n",
       " 'insteval_fid': 'Yes',\n",
       " 'insteval_gpt4_input': 'You are a given a question, a set of gold-standard reference answers (split with /) written by experts, and a candidate answer. Please judge whether the candidate answer is correct for the question considering the gold answers, simply answer Yes or No.\\nQuestion: who got the first nobel prize in physics\\nGold Answers: Wilhelm Conrad Röntgen\\nCandidate Answer: The first Nobel Prize in Physics was awarded in 1901 to Wilhelm Conrad Röntgen, a German physicist. He received the prize for his discovery of X-rays, a groundbreaking achievement that revolutionized the fields of medicine, physics, and chemistry.\\n',\n",
       " 'insteval_gpt4': '\\nYes'}"
      ]
     },
     "execution_count": 157,
     "metadata": {},
     "output_type": "execute_result"
    }
   ],
   "source": [
    "nq[0]"
   ]
  },
  {
   "cell_type": "code",
   "execution_count": 158,
   "id": "1329c036",
   "metadata": {},
   "outputs": [
    {
     "data": {
      "text/plain": [
       "dict_keys(['question', 'golden_answer', 'answer_fid', 'judge_fid', 'answer_gpt35', 'judge_gpt35', 'answer_chatgpt', 'judge_chatgpt', 'answer_gpt4', 'judge_gpt4', 'answer_newbing', 'judge_newbing', 'improper', 'ans_type', 'fb', 'inst_entity_input', 'inst_entity', 'inst_random_input', 'inst_random', 'inst_zero', 'insteval_gpt35_input', 'insteval_gpt35', 'insteval_chatgpt_input', 'insteval_chatgpt', 'insteval_newbing_input', 'insteval_newbing', 'insteval_fid_input', 'insteval_fid', 'insteval_gpt4_input', 'insteval_gpt4'])"
      ]
     },
     "execution_count": 158,
     "metadata": {},
     "output_type": "execute_result"
    }
   ],
   "source": [
    "nq[0].keys()"
   ]
  },
  {
   "cell_type": "code",
   "execution_count": 159,
   "id": "7c3b1426",
   "metadata": {},
   "outputs": [],
   "source": [
    "with open(nq_dir, 'w') as f:\n",
    "    json.dump(nq, f)"
   ]
  },
  {
   "cell_type": "markdown",
   "id": "793dafeb",
   "metadata": {},
   "source": [
    "### Inst-zero, random 추가"
   ]
  },
  {
   "cell_type": "code",
   "execution_count": 51,
   "id": "af07a2df",
   "metadata": {},
   "outputs": [],
   "source": [
    "random_dir='/home/donaldo9603/workspace/numeric/gptexpansion/out/49168/NQ_eval.json'"
   ]
  },
  {
   "cell_type": "code",
   "execution_count": 52,
   "id": "91f2fa01",
   "metadata": {},
   "outputs": [],
   "source": [
    "with open(random_dir) as f:\n",
    "    random=json.load(f)"
   ]
  },
  {
   "cell_type": "code",
   "execution_count": 53,
   "id": "c192aab0",
   "metadata": {},
   "outputs": [
    {
     "data": {
      "text/plain": [
       "dict_keys(['question', 'golden_answer', 'answer_fid', 'judge_fid', 'answer_gpt35', 'judge_gpt35', 'answer_chatgpt', 'judge_chatgpt', 'answer_gpt4', 'judge_gpt4', 'answer_newbing', 'judge_newbing', 'improper', 'ans_type', 'expand', 'fb', 'inst_expand'])"
      ]
     },
     "execution_count": 53,
     "metadata": {},
     "output_type": "execute_result"
    }
   ],
   "source": [
    "random[0].keys()"
   ]
  },
  {
   "cell_type": "code",
   "execution_count": 54,
   "id": "cb5fdccb",
   "metadata": {},
   "outputs": [],
   "source": [
    "for idx, d in enumerate(nq):\n",
    "    assert (random[idx]['question']==d['question'])\n",
    "    d['inst_zero']=random[idx]['inst_expand']"
   ]
  },
  {
   "cell_type": "code",
   "execution_count": 56,
   "id": "c650ada3",
   "metadata": {},
   "outputs": [],
   "source": [
    "random_dir='/home/donaldo9603/workspace/numeric/gptexpansion/out/50133/NQ_eval.json'"
   ]
  },
  {
   "cell_type": "code",
   "execution_count": 57,
   "id": "4fe68af8",
   "metadata": {},
   "outputs": [],
   "source": [
    "with open(random_dir) as f:\n",
    "    random=json.load(f)"
   ]
  },
  {
   "cell_type": "code",
   "execution_count": 58,
   "id": "47e7471c",
   "metadata": {},
   "outputs": [],
   "source": [
    "for idx, d in enumerate(nq):\n",
    "    assert (random[idx]['question']==d['question'])\n",
    "    d['inst_random']=random[idx]['inst_expand']"
   ]
  },
  {
   "cell_type": "code",
   "execution_count": 59,
   "id": "69af8799",
   "metadata": {},
   "outputs": [
    {
     "data": {
      "text/plain": [
       "dict_keys(['question', 'golden_answer', 'answer_fid', 'judge_fid', 'answer_gpt35', 'judge_gpt35', 'answer_chatgpt', 'judge_chatgpt', 'answer_gpt4', 'judge_gpt4', 'answer_newbing', 'judge_newbing', 'improper', 'ans_type', 'expand', 'fb', 'inst_expand_input', 'inst_expand', 'insteval_gpt35_input', 'insteval_gpt35', 'insteval_chatgpt_input', 'insteval_chatgpt', 'insteval_newbing_input', 'insteval_newbing', 'insteval_fid_input', 'insteval_fid', 'insteval_gpt4_input', 'insteval_gpt4', 'inst_zero', 'inst_random'])"
      ]
     },
     "execution_count": 59,
     "metadata": {},
     "output_type": "execute_result"
    }
   ],
   "source": [
    "nq[0].keys()"
   ]
  },
  {
   "cell_type": "markdown",
   "id": "86803dec",
   "metadata": {},
   "source": [
    "### TQ"
   ]
  },
  {
   "cell_type": "code",
   "execution_count": 187,
   "id": "df9dbfde",
   "metadata": {},
   "outputs": [],
   "source": [
    "#tq_dir='/home/donaldo9603/workspace/numeric/gptexpansion/out/51098/TQ_eval.json'\n",
    "tq_dir='/home/donaldo9603/workspace/numeric/naacl2024/data/tq_integ_0415.json'"
   ]
  },
  {
   "cell_type": "code",
   "execution_count": 188,
   "id": "066838a0",
   "metadata": {},
   "outputs": [],
   "source": [
    "with open(tq_dir) as f:\n",
    "    tq=json.load(f)"
   ]
  },
  {
   "cell_type": "code",
   "execution_count": 189,
   "id": "83599c56",
   "metadata": {},
   "outputs": [
    {
     "data": {
      "text/plain": [
       "dict_keys(['question', 'golden_answer', 'answer_fid', 'judge_fid', 'answer_gpt35', 'judge_gpt35', 'answer_chatgpt', 'judge_chatgpt', 'answer_gpt4', 'judge_gpt4', 'answer_newbing', 'judge_newbing', 'improper', 'ans_type', 'fb', 'wiki', 'inst_entity_input', 'inst_entity', 'inst_random_input', 'inst_random', 'inst_zero', 'insteval_gpt35_input', 'insteval_gpt35', 'insteval_chatgpt_input', 'insteval_chatgpt', 'insteval_newbing_input', 'insteval_newbing', 'insteval_fid_input', 'insteval_fid', 'insteval_gpt4_input', 'insteval_gpt4', 'a_entities_docs'])"
      ]
     },
     "execution_count": 189,
     "metadata": {},
     "output_type": "execute_result"
    }
   ],
   "source": [
    "tq[0].keys()"
   ]
  },
  {
   "cell_type": "code",
   "execution_count": 64,
   "id": "3181a603",
   "metadata": {},
   "outputs": [],
   "source": [
    "random_dir='/home/donaldo9603/workspace/numeric/gptexpansion/out/49302/TQ_eval.json'"
   ]
  },
  {
   "cell_type": "code",
   "execution_count": 65,
   "id": "ec198cbf",
   "metadata": {},
   "outputs": [],
   "source": [
    "with open(random_dir) as f:\n",
    "    random=json.load(f)"
   ]
  },
  {
   "cell_type": "code",
   "execution_count": 66,
   "id": "47b776fb",
   "metadata": {},
   "outputs": [
    {
     "data": {
      "text/plain": [
       "dict_keys(['question', 'golden_answer', 'answer_fid', 'judge_fid', 'answer_gpt35', 'judge_gpt35', 'answer_chatgpt', 'judge_chatgpt', 'answer_gpt4', 'judge_gpt4', 'answer_newbing', 'judge_newbing', 'improper', 'ans_type', 'fb', 'wiki', 'inst_expand'])"
      ]
     },
     "execution_count": 66,
     "metadata": {},
     "output_type": "execute_result"
    }
   ],
   "source": [
    "random[0].keys()"
   ]
  },
  {
   "cell_type": "code",
   "execution_count": 67,
   "id": "6984e8cd",
   "metadata": {},
   "outputs": [],
   "source": [
    "for idx, d in enumerate(tq):\n",
    "    assert (random[idx]['question']==d['question'])\n",
    "    d['inst_zero']=random[idx]['inst_expand']\n"
   ]
  },
  {
   "cell_type": "code",
   "execution_count": 69,
   "id": "18717c8f",
   "metadata": {},
   "outputs": [],
   "source": [
    "random_dir='/home/donaldo9603/workspace/numeric/gptexpansion/out/49302/TQ_eval.json'"
   ]
  },
  {
   "cell_type": "code",
   "execution_count": 70,
   "id": "c247d94b",
   "metadata": {},
   "outputs": [],
   "source": [
    "with open(random_dir) as f:\n",
    "    random=json.load(f)"
   ]
  },
  {
   "cell_type": "code",
   "execution_count": 71,
   "id": "07371a04",
   "metadata": {},
   "outputs": [],
   "source": [
    "for idx, d in enumerate(tq):\n",
    "    assert (random[idx]['question']==d['question'])\n",
    "    d['inst_random']=random[idx]['inst_expand']\n"
   ]
  },
  {
   "cell_type": "markdown",
   "id": "cf66c8cc",
   "metadata": {},
   "source": [
    "### Insteval 추가"
   ]
  },
  {
   "cell_type": "code",
   "execution_count": 207,
   "id": "1058478f",
   "metadata": {},
   "outputs": [],
   "source": [
    "insteval_dir='/home/donaldo9603/workspace/numeric/gpteval_inst/out/50618/TQ_eval.json'\n",
    "model='gpt4'"
   ]
  },
  {
   "cell_type": "code",
   "execution_count": 208,
   "id": "2258a719",
   "metadata": {},
   "outputs": [],
   "source": [
    "with open(insteval_dir) as f:\n",
    "    insteval=json.load(f)"
   ]
  },
  {
   "cell_type": "code",
   "execution_count": 209,
   "id": "721e4ca5",
   "metadata": {},
   "outputs": [
    {
     "data": {
      "text/plain": [
       "dict_keys(['question', 'golden_answer', 'answer_fid', 'judge_fid', 'answer_gpt35', 'judge_gpt35', 'answer_chatgpt', 'judge_chatgpt', 'answer_gpt4', 'judge_gpt4', 'answer_newbing', 'judge_newbing', 'improper', 'ans_type', 'fb', 'wiki', 'hardem_gpt4', 'softem_gpt4', 'f1_gpt4', 'bem_gpt4', 'instzero_gpt4', 'instzero_gpt4_prompt'])"
      ]
     },
     "execution_count": 209,
     "metadata": {},
     "output_type": "execute_result"
    }
   ],
   "source": [
    "insteval[0].keys()"
   ]
  },
  {
   "cell_type": "code",
   "execution_count": 210,
   "id": "98de9b0d",
   "metadata": {},
   "outputs": [],
   "source": [
    "for idx, d in enumerate(tq):\n",
    "    if not(insteval[idx]['question']==d['question']):\n",
    "        print(d['question'])\n",
    "    #assert (insteval[idx]['question']==d['question'])\n",
    "    d['insteval_{}_input'.format(model)]=insteval[idx]['instzero_{}_prompt'.format(model)]\n",
    "    d['insteval_{}'.format(model)]=insteval[idx]['instzero_{}'.format(model)]"
   ]
  },
  {
   "cell_type": "code",
   "execution_count": 211,
   "id": "4ee68608",
   "metadata": {},
   "outputs": [
    {
     "data": {
      "text/plain": [
       "dict_keys(['question', 'golden_answer', 'answer_fid', 'judge_fid', 'answer_gpt35', 'judge_gpt35', 'answer_chatgpt', 'judge_chatgpt', 'answer_gpt4', 'judge_gpt4', 'answer_newbing', 'judge_newbing', 'improper', 'ans_type', 'fb', 'wiki', 'inst_entity_input', 'inst_entity', 'inst_random_input', 'inst_random', 'inst_zero', 'insteval_gpt35_input', 'insteval_gpt35', 'insteval_chatgpt_input', 'insteval_chatgpt', 'insteval_newbing_input', 'insteval_newbing', 'insteval_fid_input', 'insteval_fid', 'insteval_gpt4_input', 'insteval_gpt4', 'a_entities_docs'])"
      ]
     },
     "execution_count": 211,
     "metadata": {},
     "output_type": "execute_result"
    }
   ],
   "source": [
    "tq[0].keys()"
   ]
  },
  {
   "cell_type": "code",
   "execution_count": 212,
   "id": "5bf62128",
   "metadata": {},
   "outputs": [],
   "source": [
    "with open(tq_dir, 'w') as f:\n",
    "    json.dump(tq, f)"
   ]
  },
  {
   "cell_type": "code",
   "execution_count": null,
   "id": "09499a42",
   "metadata": {},
   "outputs": [],
   "source": []
  }
 ],
 "metadata": {
  "kernelspec": {
   "display_name": "Python [conda:.conda-numeric]",
   "language": "python",
   "name": "conda-env-.conda-numeric-py"
  },
  "language_info": {
   "codemirror_mode": {
    "name": "ipython",
    "version": 3
   },
   "file_extension": ".py",
   "mimetype": "text/x-python",
   "name": "python",
   "nbconvert_exporter": "python",
   "pygments_lexer": "ipython3",
   "version": "3.11.5"
  }
 },
 "nbformat": 4,
 "nbformat_minor": 5
}
