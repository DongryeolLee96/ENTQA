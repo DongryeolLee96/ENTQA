{
 "cells": [
  {
   "cell_type": "code",
   "execution_count": 16,
   "id": "e37062bc",
   "metadata": {},
   "outputs": [],
   "source": [
    "numeric_type=['CARDINAL', 'DATE', 'MONEY', 'PERCENT', 'QUANTITY', 'TIME', 'ORDINAL']\n",
    "nonnumeric_type=['EVENT',\n",
    " 'FAC',\n",
    " 'GPE',\n",
    " 'LANGUAGE',\n",
    " 'LAW',\n",
    " 'LOC',\n",
    " 'NORP',\n",
    " 'ORG',\n",
    " 'PERSON',\n",
    " 'PRODUCT',\n",
    " 'WORK_OF_ART']"
   ]
  },
  {
   "cell_type": "code",
   "execution_count": 36,
   "id": "b56830df",
   "metadata": {},
   "outputs": [],
   "source": [
    "from eval import f1_score, normalize_answer"
   ]
  },
  {
   "cell_type": "code",
   "execution_count": 3,
   "id": "0ed12dc2",
   "metadata": {},
   "outputs": [],
   "source": [
    "from collections import Counter"
   ]
  },
  {
   "cell_type": "code",
   "execution_count": 13,
   "id": "8c2d1334",
   "metadata": {},
   "outputs": [],
   "source": [
    "import json\n",
    "import spacy"
   ]
  },
  {
   "cell_type": "code",
   "execution_count": 65,
   "id": "3d4d3b77",
   "metadata": {},
   "outputs": [],
   "source": [
    "dev_dir='/home/donaldo9603/workspace/numeric/data/nq/original_nq_dev_anstype.json'\n",
    "train_dir='/home/donaldo9603/workspace/numeric/data/nq/original_nq_train_anstype.json'"
   ]
  },
  {
   "cell_type": "code",
   "execution_count": 66,
   "id": "ec73ae15",
   "metadata": {},
   "outputs": [],
   "source": [
    "with open(dev_dir) as f:\n",
    "    dev=json.load(f)"
   ]
  },
  {
   "cell_type": "code",
   "execution_count": 67,
   "id": "ff6566ee",
   "metadata": {},
   "outputs": [],
   "source": [
    "with open(train_dir) as f:\n",
    "    train=json.load(f)"
   ]
  },
  {
   "cell_type": "code",
   "execution_count": 68,
   "id": "aa7376f6",
   "metadata": {},
   "outputs": [
    {
     "name": "stdout",
     "output_type": "stream",
     "text": [
      "3610\n",
      "87925\n"
     ]
    }
   ],
   "source": [
    "print(len(dev))\n",
    "print(len(train))"
   ]
  },
  {
   "cell_type": "markdown",
   "id": "8e7d34cc",
   "metadata": {},
   "source": [
    "### Strict tagging"
   ]
  },
  {
   "cell_type": "code",
   "execution_count": 72,
   "id": "2c512ced",
   "metadata": {},
   "outputs": [
    {
     "data": {
      "text/plain": [
       "{'id': 0,\n",
       " 'question': 'when was the last time anyone was on the moon',\n",
       " 'answer': ['14 December 1972 UTC', 'December 1972'],\n",
       " 'ans_type': ['DATE']}"
      ]
     },
     "execution_count": 72,
     "metadata": {},
     "output_type": "execute_result"
    }
   ],
   "source": [
    "dev[0]"
   ]
  },
  {
   "cell_type": "code",
   "execution_count": 9,
   "id": "a3e9217a",
   "metadata": {},
   "outputs": [],
   "source": [
    "def all_same(l):\n",
    "    return True if all(l[0]==d for d in l) else False"
   ]
  },
  {
   "cell_type": "code",
   "execution_count": 80,
   "id": "ab2e0afa",
   "metadata": {},
   "outputs": [],
   "source": [
    "strict_dev_types=[]\n",
    "for d in dev:\n",
    "    if len(d['ans_type'])==1 or all_same(d['ans_type']):\n",
    "        strict_dev_types.append(d['ans_type'][0])"
   ]
  },
  {
   "cell_type": "code",
   "execution_count": 82,
   "id": "39bf1726",
   "metadata": {},
   "outputs": [
    {
     "name": "stdout",
     "output_type": "stream",
     "text": [
      "CARDINAL 219\n",
      "DATE 638\n",
      "MONEY 14\n",
      "PERCENT 14\n",
      "QUANTITY 22\n",
      "TIME 10\n",
      "ORDINAL 13\n"
     ]
    }
   ],
   "source": [
    "for num in numeric_type:\n",
    "    print(num, Counter(strict_dev_types)[num])"
   ]
  },
  {
   "cell_type": "code",
   "execution_count": 83,
   "id": "7d34a33d",
   "metadata": {},
   "outputs": [
    {
     "name": "stdout",
     "output_type": "stream",
     "text": [
      "EVENT 9\n",
      "FAC 19\n",
      "GPE 322\n",
      "LANGUAGE 2\n",
      "LAW 3\n",
      "LOC 47\n",
      "NORP 75\n",
      "ORG 209\n",
      "PERSON 1101\n",
      "PRODUCT 17\n",
      "WORK_OF_ART 14\n"
     ]
    }
   ],
   "source": [
    "for non in nonnumeric_type:\n",
    "    print(non, Counter(strict_dev_types)[non])"
   ]
  },
  {
   "cell_type": "code",
   "execution_count": 84,
   "id": "8532c032",
   "metadata": {},
   "outputs": [],
   "source": [
    "strict_train_types=[]\n",
    "for d in train:\n",
    "    if len(d['ans_type'])==1 or all_same(d['ans_type']):\n",
    "        strict_train_types.append(d['ans_type'][0])"
   ]
  },
  {
   "cell_type": "code",
   "execution_count": 85,
   "id": "81f0f5f4",
   "metadata": {},
   "outputs": [
    {
     "name": "stdout",
     "output_type": "stream",
     "text": [
      "CARDINAL 6244\n",
      "DATE 18159\n",
      "MONEY 297\n",
      "PERCENT 223\n",
      "QUANTITY 371\n",
      "TIME 226\n",
      "ORDINAL 307\n"
     ]
    }
   ],
   "source": [
    "for num in numeric_type:\n",
    "    print(num, Counter(strict_train_types)[num])"
   ]
  },
  {
   "cell_type": "code",
   "execution_count": 86,
   "id": "a1109834",
   "metadata": {
    "scrolled": true
   },
   "outputs": [
    {
     "name": "stdout",
     "output_type": "stream",
     "text": [
      "EVENT 133\n",
      "FAC 343\n",
      "GPE 6810\n",
      "LANGUAGE 85\n",
      "LAW 103\n",
      "LOC 903\n",
      "NORP 1222\n",
      "ORG 4663\n",
      "PERSON 30571\n",
      "PRODUCT 245\n",
      "WORK_OF_ART 281\n"
     ]
    }
   ],
   "source": [
    "for num in nonnumeric_type:\n",
    "    print(num, Counter(strict_train_types)[num])"
   ]
  },
  {
   "cell_type": "markdown",
   "id": "93b788d8",
   "metadata": {},
   "source": [
    "### Not strict tagging"
   ]
  },
  {
   "cell_type": "code",
   "execution_count": 88,
   "id": "3535f0ec",
   "metadata": {},
   "outputs": [],
   "source": [
    "dev_types=[]\n",
    "for d in dev:\n",
    "    if len(d['ans_type'])!=0:\n",
    "        dev_types.append(d['ans_type'][0])"
   ]
  },
  {
   "cell_type": "code",
   "execution_count": 90,
   "id": "bc86c1a2",
   "metadata": {
    "scrolled": true
   },
   "outputs": [
    {
     "name": "stdout",
     "output_type": "stream",
     "text": [
      "CARDINAL 6421\n",
      "DATE 18339\n",
      "MONEY 320\n",
      "PERCENT 225\n",
      "QUANTITY 374\n",
      "TIME 234\n",
      "ORDINAL 356\n",
      "EVENT 137\n",
      "FAC 397\n",
      "GPE 7052\n",
      "LANGUAGE 119\n",
      "LAW 110\n",
      "LOC 960\n",
      "NORP 1652\n",
      "ORG 5127\n",
      "PERSON 30964\n",
      "PRODUCT 252\n",
      "WORK_OF_ART 283\n"
     ]
    }
   ],
   "source": [
    "for num in numeric_type:\n",
    "    print(num, Counter(train_types)[num])\n",
    "for non in nonnumeric_type:\n",
    "    print(non, Counter(train_types)[non])"
   ]
  },
  {
   "cell_type": "code",
   "execution_count": 91,
   "id": "c3d0ec33",
   "metadata": {},
   "outputs": [
    {
     "name": "stdout",
     "output_type": "stream",
     "text": [
      "CARDINAL 229\n",
      "DATE 641\n",
      "MONEY 16\n",
      "PERCENT 15\n",
      "QUANTITY 22\n",
      "TIME 10\n",
      "ORDINAL 14\n",
      "EVENT 9\n",
      "FAC 22\n",
      "GPE 328\n",
      "LANGUAGE 5\n",
      "LAW 3\n",
      "LOC 49\n",
      "NORP 92\n",
      "ORG 228\n",
      "PERSON 1119\n",
      "PRODUCT 18\n",
      "WORK_OF_ART 14\n"
     ]
    }
   ],
   "source": [
    "for num in numeric_type:\n",
    "    print(num, Counter(dev_types)[num])\n",
    "for non in nonnumeric_type:\n",
    "    print(non, Counter(dev_types)[non])"
   ]
  },
  {
   "cell_type": "code",
   "execution_count": 89,
   "id": "01eba586",
   "metadata": {},
   "outputs": [],
   "source": [
    "train_types=[]\n",
    "for d in train:\n",
    "    if len(d['ans_type'])!=0:\n",
    "        train_types.append(d['ans_type'][0])"
   ]
  },
  {
   "cell_type": "markdown",
   "id": "59864ede",
   "metadata": {},
   "source": [
    "### Spacy tagging"
   ]
  },
  {
   "cell_type": "code",
   "execution_count": 39,
   "id": "abb7c467",
   "metadata": {},
   "outputs": [],
   "source": [
    "for d in train:\n",
    "    doc = nlp(d['answer'][0])\n",
    "    if len(doc.ents)==0:\n",
    "        d['ans_type']=\"unknown\"\n",
    "    else:\n",
    "        l=[]\n",
    "        for tag in doc.ents:\n",
    "            l.append(tag.label_)\n",
    "        d['ans_type']=l"
   ]
  },
  {
   "cell_type": "code",
   "execution_count": 99,
   "id": "243ad582",
   "metadata": {},
   "outputs": [],
   "source": [
    "prediction='Barack Obama was born in August 4th, 1961'\n",
    "gold='August 4th, 196'"
   ]
  },
  {
   "cell_type": "code",
   "execution_count": 100,
   "id": "6efde888",
   "metadata": {},
   "outputs": [
    {
     "name": "stdout",
     "output_type": "stream",
     "text": [
      "0.36363636363636365\n"
     ]
    }
   ],
   "source": [
    "print(f1_score(prediction, gold))"
   ]
  },
  {
   "cell_type": "markdown",
   "id": "bbe78f3e",
   "metadata": {},
   "source": [
    "### AmbigNQ statistic"
   ]
  },
  {
   "cell_type": "code",
   "execution_count": 23,
   "id": "33353ffd",
   "metadata": {},
   "outputs": [],
   "source": [
    "amb_dev_dir='/home/donaldo9603/workspace/checkpoint/data/ambigqa/dev.json'"
   ]
  },
  {
   "cell_type": "code",
   "execution_count": 24,
   "id": "4bbf7c2a",
   "metadata": {},
   "outputs": [],
   "source": [
    "amb_train_dir='/home/donaldo9603/workspace/checkpoint/data/ambigqa/train.json'"
   ]
  },
  {
   "cell_type": "code",
   "execution_count": 25,
   "id": "3e139062",
   "metadata": {},
   "outputs": [],
   "source": [
    "with open(amb_dev_dir) as f:\n",
    "    amb_dev=json.load(f)"
   ]
  },
  {
   "cell_type": "code",
   "execution_count": 26,
   "id": "fc3fa78a",
   "metadata": {},
   "outputs": [],
   "source": [
    "with open(amb_train_dir) as f:\n",
    "    amb_train=json.load(f)"
   ]
  },
  {
   "cell_type": "code",
   "execution_count": 27,
   "id": "76aa1145",
   "metadata": {},
   "outputs": [
    {
     "data": {
      "text/plain": [
       "2002"
      ]
     },
     "execution_count": 27,
     "metadata": {},
     "output_type": "execute_result"
    }
   ],
   "source": [
    "len(amb_dev)"
   ]
  },
  {
   "cell_type": "code",
   "execution_count": 28,
   "id": "6721816d",
   "metadata": {},
   "outputs": [
    {
     "data": {
      "text/plain": [
       "10036"
      ]
     },
     "execution_count": 28,
     "metadata": {},
     "output_type": "execute_result"
    }
   ],
   "source": [
    "len(amb_train)"
   ]
  },
  {
   "cell_type": "code",
   "execution_count": 29,
   "id": "7e1528c4",
   "metadata": {},
   "outputs": [],
   "source": [
    "nlp=spacy.load('en_core_web_lg')"
   ]
  },
  {
   "cell_type": "code",
   "execution_count": 30,
   "id": "76d109da",
   "metadata": {},
   "outputs": [],
   "source": [
    "amb_dev_sq=[]\n",
    "for d in amb_dev:\n",
    "    if all(annot['type']=='singleAnswer' for annot in d['annotations']):\n",
    "        amb_dev_sq.append(d)"
   ]
  },
  {
   "cell_type": "code",
   "execution_count": 31,
   "id": "374dc980",
   "metadata": {},
   "outputs": [
    {
     "data": {
      "text/plain": [
       "830"
      ]
     },
     "execution_count": 31,
     "metadata": {},
     "output_type": "execute_result"
    }
   ],
   "source": [
    "len(amb_dev_sq)"
   ]
  },
  {
   "cell_type": "code",
   "execution_count": 32,
   "id": "e9e4712f",
   "metadata": {},
   "outputs": [],
   "source": [
    "amb_train_sq=[]\n",
    "for d in amb_train:\n",
    "    if all(annot['type']=='singleAnswer' for annot in d['annotations']):\n",
    "        amb_train_sq.append(d)"
   ]
  },
  {
   "cell_type": "code",
   "execution_count": 34,
   "id": "1ab69b41",
   "metadata": {},
   "outputs": [
    {
     "data": {
      "text/plain": [
       "5287"
      ]
     },
     "execution_count": 34,
     "metadata": {},
     "output_type": "execute_result"
    }
   ],
   "source": [
    "len(amb_train_sq)"
   ]
  },
  {
   "cell_type": "code",
   "execution_count": 35,
   "id": "000b9641",
   "metadata": {},
   "outputs": [
    {
     "data": {
      "text/plain": [
       "dict_keys(['viewed_doc_titles', 'used_queries', 'annotations', 'nq_answer', 'id', 'nq_doc_title', 'question'])"
      ]
     },
     "execution_count": 35,
     "metadata": {},
     "output_type": "execute_result"
    }
   ],
   "source": [
    "amb_dev_sq[0].keys()"
   ]
  },
  {
   "cell_type": "markdown",
   "id": "fdc53632",
   "metadata": {},
   "source": [
    "### Dev set creation"
   ]
  },
  {
   "cell_type": "code",
   "execution_count": 61,
   "id": "a1e535d1",
   "metadata": {
    "scrolled": true
   },
   "outputs": [],
   "source": [
    "ambignq_dev=[]\n",
    "for d in amb_dev_sq:\n",
    "    dic={}\n",
    "    if len(d['annotations'])>1:\n",
    "        answer=merge_answers(d['annotations'][0]['answer'], d['annotations'][1]['answer'])\n",
    "    else:\n",
    "        answer= d['annotations'][0]['answer']\n",
    "    dic['question']=d['question']\n",
    "    dic['answer']=answer\n",
    "    \n",
    "    ans_types=[]\n",
    "    doc=nlp(answer[0])\n",
    "    if len(doc.ents)==0:\n",
    "        dic['ans_type']='unknown'\n",
    "    else:\n",
    "        for ans_type in doc.ents:\n",
    "            ans_types.append(ans_type.label_)\n",
    "        dic['ans_type']=ans_types\n",
    "    ambignq_dev.append(dic)"
   ]
  },
  {
   "cell_type": "code",
   "execution_count": 67,
   "id": "175888f5",
   "metadata": {},
   "outputs": [],
   "source": [
    "amb_dev_types=[]\n",
    "for d in ambignq_dev:\n",
    "    if len(d['ans_type'])==1 or all_same(d['ans_type']):\n",
    "        amb_dev_types.append(d['ans_type'][0])"
   ]
  },
  {
   "cell_type": "code",
   "execution_count": 68,
   "id": "b4368be3",
   "metadata": {},
   "outputs": [
    {
     "name": "stdout",
     "output_type": "stream",
     "text": [
      "CARDINAL 70\n",
      "DATE 135\n",
      "MONEY 3\n",
      "PERCENT 0\n",
      "QUANTITY 0\n",
      "TIME 0\n",
      "ORDINAL 3\n",
      "EVENT 2\n",
      "FAC 3\n",
      "GPE 48\n",
      "LANGUAGE 3\n",
      "LAW 0\n",
      "LOC 5\n",
      "NORP 9\n",
      "ORG 37\n",
      "PERSON 351\n",
      "PRODUCT 3\n",
      "WORK_OF_ART 2\n"
     ]
    }
   ],
   "source": [
    "for num in numeric_type:\n",
    "    print(num, Counter(amb_dev_types)[num])\n",
    "for non in nonnumeric_type:\n",
    "    print(non, Counter(amb_dev_types)[non])"
   ]
  },
  {
   "cell_type": "code",
   "execution_count": 75,
   "id": "7689cdcf",
   "metadata": {},
   "outputs": [
    {
     "name": "stdout",
     "output_type": "stream",
     "text": [
      "142\n"
     ]
    }
   ],
   "source": [
    "cnt=0\n",
    "for d in ambignq_dev:\n",
    "    if type(d['ans_type'])== str:\n",
    "        if d['ans_type']=='unknown':\n",
    "            cnt+=1\n",
    "print(cnt)"
   ]
  },
  {
   "cell_type": "code",
   "execution_count": null,
   "id": "3b189071",
   "metadata": {},
   "outputs": [],
   "source": []
  },
  {
   "cell_type": "code",
   "execution_count": 63,
   "id": "2d2fa614",
   "metadata": {},
   "outputs": [
    {
     "data": {
      "text/plain": [
       "830"
      ]
     },
     "execution_count": 63,
     "metadata": {},
     "output_type": "execute_result"
    }
   ],
   "source": [
    "len(ambignq_dev)"
   ]
  },
  {
   "cell_type": "code",
   "execution_count": 62,
   "id": "d8200fc4",
   "metadata": {},
   "outputs": [],
   "source": [
    "ambignq_train=[]\n",
    "for d in amb_train_sq:\n",
    "    dic={}\n",
    "    if len(d['annotations'])>1:\n",
    "        answer=merge_answers(d['annotations'][0]['answer'], d['annotations'][1]['answer'])\n",
    "    else:\n",
    "        answer= d['annotations'][0]['answer']\n",
    "    dic['question']=d['question']\n",
    "    dic['answer']=answer\n",
    "    \n",
    "    ans_types=[]\n",
    "    doc=nlp(answer[0])\n",
    "    if len(doc.ents)==0:\n",
    "        dic['ans_type']='unknown'\n",
    "    else:\n",
    "        for ans_type in doc.ents:\n",
    "            ans_types.append(ans_type.label_)\n",
    "        dic['ans_type']=ans_types\n",
    "    ambignq_train.append(dic)"
   ]
  },
  {
   "cell_type": "code",
   "execution_count": 65,
   "id": "780cc2ab",
   "metadata": {},
   "outputs": [
    {
     "data": {
      "text/plain": [
       "5287"
      ]
     },
     "execution_count": 65,
     "metadata": {},
     "output_type": "execute_result"
    }
   ],
   "source": [
    "len(ambignq_train)"
   ]
  },
  {
   "cell_type": "code",
   "execution_count": 76,
   "id": "f215a5b6",
   "metadata": {},
   "outputs": [],
   "source": [
    "amb_train_types=[]\n",
    "for d in ambignq_train:\n",
    "    if len(d['ans_type'])==1 or all_same(d['ans_type']):\n",
    "        amb_train_types.append(d['ans_type'][0])"
   ]
  },
  {
   "cell_type": "code",
   "execution_count": 154,
   "id": "9973238c",
   "metadata": {},
   "outputs": [
    {
     "name": "stdout",
     "output_type": "stream",
     "text": [
      "CARDINAL 383\n",
      "DATE 825\n",
      "MONEY 11\n",
      "PERCENT 14\n",
      "QUANTITY 18\n",
      "TIME 11\n",
      "ORDINAL 15\n",
      "EVENT 5\n",
      "FAC 16\n",
      "GPE 379\n",
      "LANGUAGE 1\n",
      "LAW 7\n",
      "LOC 63\n",
      "NORP 60\n",
      "ORG 292\n",
      "PERSON 2033\n",
      "PRODUCT 10\n",
      "WORK_OF_ART 10\n"
     ]
    }
   ],
   "source": [
    "for num in numeric_type:\n",
    "    print(num, Counter(amb_train_types)[num])\n",
    "for non in nonnumeric_type:\n",
    "    print(non, Counter(amb_train_types)[non])"
   ]
  },
  {
   "cell_type": "code",
   "execution_count": 52,
   "id": "6d9dde22",
   "metadata": {},
   "outputs": [
    {
     "data": {
      "text/plain": [
       "[{'type': 'singleAnswer', 'answer': ['Theresa May']},\n",
       " {'type': 'singleAnswer', 'answer': ['Theresa Mary May', 'Theresa May']}]"
      ]
     },
     "execution_count": 52,
     "metadata": {},
     "output_type": "execute_result"
    }
   ],
   "source": [
    "amb_dev_sq[5]['annotations']"
   ]
  },
  {
   "cell_type": "code",
   "execution_count": 53,
   "id": "a7708c98",
   "metadata": {},
   "outputs": [],
   "source": [
    "def merge_answers(l1, l2): # Merge duplicated answers between two string\n",
    "    l1.extend(l2)\n",
    "    merged=list(set(l1))\n",
    "    return merged"
   ]
  },
  {
   "cell_type": "code",
   "execution_count": 54,
   "id": "e3625b0d",
   "metadata": {},
   "outputs": [
    {
     "name": "stdout",
     "output_type": "stream",
     "text": [
      "['Theresa Mary May', 'Theresa May']\n"
     ]
    }
   ],
   "source": [
    "print(merge_answers(['Theresa May'], ['Theresa Mary May', 'Theresa May']))"
   ]
  },
  {
   "cell_type": "code",
   "execution_count": 79,
   "id": "85ed4252",
   "metadata": {},
   "outputs": [
    {
     "name": "stdout",
     "output_type": "stream",
     "text": [
      "How many episodes are in season 2 of chesapeake shores?\n",
      "['10']\n",
      "How many chests of tea were dumped in the boston harbor?\n",
      "['342']\n",
      "How many episodes are there to my mother and other strangers?\n",
      "['5', 'five']\n",
      "How many islands are included in the federated states of micronesia?\n",
      "['607', 'around 607']\n",
      "New girl season 7 will have how many episodes?\n",
      "['8']\n",
      "How many times french won the world cup?\n",
      "['2', 'two']\n",
      "How many times has a nfl teams lost every game?\n",
      "['twelve']\n",
      "How many seasons of young dracula are there?\n",
      "['5']\n",
      "How many 40 point games does michael jordan have in the playoffs?\n",
      "['38']\n",
      "How many arms of government are there in nigeria?\n",
      "['3', 'three']\n",
      "How many episodes does riverdale season 2 have?\n",
      "['22']\n",
      "How many movies does the twilight series have?\n",
      "['5', 'five']\n",
      "What directv channel is hallmark movies and mysteries?\n",
      "['565', '565 (HD)']\n",
      "How many states are in the continental united states?\n",
      "['49']\n",
      "How many episodes of sesame street are there?\n",
      "['4,514.', '4514']\n",
      "How many nuclear weapons did the soviet union have in 1945?\n",
      "['0']\n",
      "How long was the empire state building the tallest building?\n",
      "['1931–1971', 'nearly 40 years', '40 years', '1931 until 1972', '1931 to 1970']\n",
      "How many seats does the audi r8 have?\n",
      "['2', '2-seater']\n",
      "How many unesco world heritage sites in uk?\n",
      "['28']\n",
      "How many original harry potter books are there?\n",
      "['7']\n",
      "How many journeys did canada's first astronaut make to space?\n",
      "['three', 'three flights']\n",
      "Ratio of length and width of indian flag?\n",
      "['length 1.5 times width', '2:3', 'two by three', '2/3']\n",
      "How much scoville units is a ghost pepper?\n",
      "['1,041,427', 'more than 1 million', '1,041,427 SHU']\n",
      "When did the golden age of athens end?\n",
      "['404 BC']\n",
      "How many episodes of the godfather are there?\n",
      "['72']\n",
      "How many countries can us citizen travel without visa?\n",
      "['184', '184 countries and territories']\n",
      "How many episodes does ncis season 15 have?\n",
      "['24']\n",
      "How many episodes are in queen of the south season two?\n",
      "['13']\n",
      "How many floors does paris las vegas have?\n",
      "['33']\n",
      "When was the nymph's reply to the shepherd written?\n",
      "['1600']\n",
      "How many episodes are there in season 2 of miraculous ladybug?\n",
      "['26']\n",
      "How many episodes in season three of grace and frankie?\n",
      "['13']\n",
      "The number o f railway zones in india are?\n",
      "['18']\n",
      "How many episodes in chicago med season 3?\n",
      "['20']\n",
      "How many working police commissionerates are there in karnataka?\n",
      "['six']\n",
      "When did leonardo da vinci finish painting the mona lisa?\n",
      "['c. 1506', 'c.1517']\n",
      "How many episodes of switched at birth season 1?\n",
      "['30']\n",
      "When did the aztecs settle in lake texcoco?\n",
      "['1325']\n",
      "What is the maximum number of electrons in the first energy shell of an atom?\n",
      "['2']\n",
      "How many episodes are in season 2 of the handmades tale?\n",
      "['13']\n",
      "1 foot is equal to how much metre?\n",
      "['0.3048']\n",
      "How many times did the buffalo bills win the super bowl?\n",
      "['zero', '0', 'Zero']\n",
      "Where are bases found on the ph scale?\n",
      "['greater than 7']\n",
      "How many nfl mvp does tom brady have?\n",
      "['3']\n",
      "How many triple doubles did kobe bryant have in his career?\n",
      "['21']\n",
      "What is the population of st thomas virgin islands?\n",
      "['51,634']\n",
      "Vote percentage of bjp in 2009 lok sabha election?\n",
      "['18.80', '18.8', '18.80%']\n",
      "How many times csk reached final in ipl?\n",
      "['eight', '8']\n",
      "How many episodes are in ben 10 alien force season 1?\n",
      "['13']\n",
      "What is the record for most wins in jeopardy?\n",
      "['74']\n",
      "How many episodes are in wolfblood season 1?\n",
      "['13']\n",
      "How many miles is mccarran blvd in reno nv?\n",
      "['22.972', '22.98', '22.972 mi']\n",
      "How many episodes in rupauls drag race season 9?\n",
      "['14']\n",
      "What percentage of the world died in ww2?\n",
      "['3', '3%']\n",
      "How many episodes of judge judy per year?\n",
      "['260']\n",
      "How many times has madrid won the uefa champions league?\n",
      "['thirteen', '13']\n",
      "How many episodes on 13 reasons why season 2?\n",
      "['13']\n",
      "How many episodes in season 4 agents of shield?\n",
      "['22']\n",
      "How many episodes does riverdale season one have?\n",
      "['13']\n",
      "When was the last western roman emperor overthrown?\n",
      "['476 AD']\n",
      "How many episodes are there in permanent roommates season 2?\n",
      "['8']\n",
      "How many steps in world health organization pain ladder?\n",
      "['3']\n",
      "How many california state senate members are there?\n",
      "['40']\n",
      "How many bridges in the city of pittsburgh?\n",
      "['446 bridges', '446']\n",
      "How many seasons of shameless usa is there?\n",
      "['10', 'ten']\n",
      "How many ford gts are in the world?\n",
      "['4,038', '4038']\n",
      "The number on kiss me thru the phone?\n",
      "['678-999-8212', '6 7 8 999 8 2 1 2']\n",
      "Number of participating countries in tour de france 2017?\n",
      "['32']\n",
      "How many episodes in season 1 of handmades tale?\n",
      "['10']\n",
      "How many cities in india has metro train?\n",
      "['21']\n"
     ]
    }
   ],
   "source": [
    "for d in ambignq_dev:\n",
    "    if 'CARDINAL' in d['ans_type']:\n",
    "        print(d['question'])\n",
    "        print(d['answer'])\n",
    "        "
   ]
  },
  {
   "cell_type": "code",
   "execution_count": 80,
   "id": "ed1f4acf",
   "metadata": {},
   "outputs": [],
   "source": [
    "with open('/home/donaldo9603/workspace/numeric/data/squad_anstype.json') as f:\n",
    "    sq=json.load(f)"
   ]
  },
  {
   "cell_type": "code",
   "execution_count": 92,
   "id": "87ea627e",
   "metadata": {},
   "outputs": [
    {
     "data": {
      "text/plain": [
       "10570"
      ]
     },
     "execution_count": 92,
     "metadata": {},
     "output_type": "execute_result"
    }
   ],
   "source": [
    "len(sq)"
   ]
  },
  {
   "cell_type": "code",
   "execution_count": 85,
   "id": "77f0cf1f",
   "metadata": {},
   "outputs": [],
   "source": [
    "sq_type=[]\n",
    "for d in sq:\n",
    "    doc = nlp(d['answers'][0])\n",
    "    if len(doc.ents)!=0:\n",
    "        l=[]\n",
    "        for tag in doc.ents:\n",
    "            l.append(tag.label_)\n",
    "        if len(l)==1 or all_same(l):\n",
    "\n",
    "            sq_type.append(l[0])"
   ]
  },
  {
   "cell_type": "code",
   "execution_count": 86,
   "id": "2dcd2c41",
   "metadata": {},
   "outputs": [
    {
     "name": "stdout",
     "output_type": "stream",
     "text": [
      "CARDINAL 973\n",
      "DATE 956\n",
      "MONEY 99\n",
      "PERCENT 96\n",
      "QUANTITY 116\n",
      "TIME 47\n",
      "ORDINAL 63\n",
      "EVENT 42\n",
      "FAC 64\n",
      "GPE 544\n",
      "LANGUAGE 7\n",
      "LAW 15\n",
      "LOC 125\n",
      "NORP 328\n",
      "ORG 987\n",
      "PERSON 1180\n",
      "PRODUCT 57\n",
      "WORK_OF_ART 48\n"
     ]
    }
   ],
   "source": [
    "for num in numeric_type:\n",
    "    print(num, Counter(sq_type)[num])\n",
    "for non in nonnumeric_type:\n",
    "    print(non, Counter(sq_type)[non])"
   ]
  },
  {
   "cell_type": "code",
   "execution_count": 96,
   "id": "bc463b96",
   "metadata": {},
   "outputs": [
    {
     "name": "stdout",
     "output_type": "stream",
     "text": [
      "0\n"
     ]
    }
   ],
   "source": [
    "typ='MONEY'\n",
    "cnt=0\n",
    "for d in sq:\n",
    "    if 'MONEY' in d['ans_type'] and all_same(d['ans_type']):\n",
    "        cnt+=1\n"
   ]
  },
  {
   "cell_type": "code",
   "execution_count": 112,
   "id": "1d5e8a80",
   "metadata": {},
   "outputs": [
    {
     "data": {
      "text/plain": [
       "10570"
      ]
     },
     "execution_count": 112,
     "metadata": {},
     "output_type": "execute_result"
    }
   ],
   "source": [
    "len(sq)"
   ]
  },
  {
   "cell_type": "code",
   "execution_count": 99,
   "id": "958b6f21",
   "metadata": {},
   "outputs": [
    {
     "data": {
      "text/plain": [
       "{'question': 'Where did Super Bowl 50 take place?',\n",
       " 'answers': ['Santa Clara, California',\n",
       "  \"Levi's Stadium\",\n",
       "  \"Levi's Stadium in the San Francisco Bay Area at Santa Clara, California.\"],\n",
       " 'ans_type': 'GPE'}"
      ]
     },
     "execution_count": 99,
     "metadata": {},
     "output_type": "execute_result"
    }
   ],
   "source": [
    "sq[2]"
   ]
  },
  {
   "cell_type": "markdown",
   "id": "14c9a5fa",
   "metadata": {},
   "source": [
    "### NQ strict tagging"
   ]
  },
  {
   "cell_type": "code",
   "execution_count": 18,
   "id": "2e1c1aff",
   "metadata": {},
   "outputs": [],
   "source": [
    "from datasets import load_dataset\n",
    "from collections import Counter"
   ]
  },
  {
   "cell_type": "code",
   "execution_count": 6,
   "id": "8f1eb9af",
   "metadata": {},
   "outputs": [],
   "source": [
    "import spacy"
   ]
  },
  {
   "cell_type": "code",
   "execution_count": 2,
   "id": "f55e441d",
   "metadata": {},
   "outputs": [
    {
     "name": "stderr",
     "output_type": "stream",
     "text": [
      "Found cached dataset nq_open (/home/donaldo9603/.cache/huggingface/datasets/nq_open/nq_open/2.0.0/75b7e191dc38a0f99f451a2cc0dc969fee2965238051d6f03989ff66ea1f39a5)\n",
      "Found cached dataset nq_open (/home/donaldo9603/.cache/huggingface/datasets/nq_open/nq_open/2.0.0/75b7e191dc38a0f99f451a2cc0dc969fee2965238051d6f03989ff66ea1f39a5)\n"
     ]
    }
   ],
   "source": [
    "nq_dev=load_dataset('nq_open', split='validation')\n",
    "nq_train=load_dataset('nq_open', split='train')"
   ]
  },
  {
   "cell_type": "code",
   "execution_count": 1,
   "id": "5820ebfe",
   "metadata": {},
   "outputs": [
    {
     "ename": "NameError",
     "evalue": "name 'load_dataset' is not defined",
     "output_type": "error",
     "traceback": [
      "\u001b[0;31m---------------------------------------------------------------------------\u001b[0m",
      "\u001b[0;31mNameError\u001b[0m                                 Traceback (most recent call last)",
      "Cell \u001b[0;32mIn[1], line 1\u001b[0m\n\u001b[0;32m----> 1\u001b[0m sq_dev\u001b[38;5;241m=\u001b[39mload_dataset(\u001b[38;5;124m'\u001b[39m\u001b[38;5;124msquad\u001b[39m\u001b[38;5;124m'\u001b[39m, split\u001b[38;5;241m=\u001b[39m\u001b[38;5;124m'\u001b[39m\u001b[38;5;124mvalidation\u001b[39m\u001b[38;5;124m'\u001b[39m)\n\u001b[1;32m      2\u001b[0m sq_train\u001b[38;5;241m=\u001b[39mload_dataset(\u001b[38;5;124m'\u001b[39m\u001b[38;5;124msquad\u001b[39m\u001b[38;5;124m'\u001b[39m, split\u001b[38;5;241m=\u001b[39m\u001b[38;5;124m'\u001b[39m\u001b[38;5;124mtrain\u001b[39m\u001b[38;5;124m'\u001b[39m)\n",
      "\u001b[0;31mNameError\u001b[0m: name 'load_dataset' is not defined"
     ]
    }
   ],
   "source": [
    "sq_dev=load_dataset('squad', split='validation')\n",
    "sq_train=load_dataset('squad', split='train')"
   ]
  },
  {
   "cell_type": "code",
   "execution_count": 10,
   "id": "b09869a5",
   "metadata": {},
   "outputs": [
    {
     "name": "stdout",
     "output_type": "stream",
     "text": [
      "3610\n",
      "87925\n"
     ]
    }
   ],
   "source": [
    "print(len(nq_dev))\n",
    "print(len(nq_train))"
   ]
  },
  {
   "cell_type": "code",
   "execution_count": 11,
   "id": "de189b04",
   "metadata": {},
   "outputs": [
    {
     "data": {
      "text/plain": [
       "{'question': 'when was the last time anyone was on the moon',\n",
       " 'answer': ['14 December 1972 UTC', 'December 1972']}"
      ]
     },
     "execution_count": 11,
     "metadata": {},
     "output_type": "execute_result"
    }
   ],
   "source": [
    "nq_dev[0]"
   ]
  },
  {
   "cell_type": "code",
   "execution_count": 12,
   "id": "1900ca28",
   "metadata": {},
   "outputs": [],
   "source": [
    "nlp=spacy.load('en_core_web_lg')"
   ]
  },
  {
   "cell_type": "code",
   "execution_count": 20,
   "id": "ad898ec9",
   "metadata": {},
   "outputs": [],
   "source": [
    "nq_dev_tag=[]\n",
    "for idx, d in enumerate(nq_dev):\n",
    "    dic={}\n",
    "    dic['id']=idx\n",
    "    dic['question']=d['question']\n",
    "    dic['answer']=d['answer']\n",
    "    \n",
    "    doc = nlp(d['answer'][0])\n",
    "    types=[]\n",
    "    if len(doc.ents)==0:\n",
    "        dic['ans_type']='unknown'\n",
    "    else:\n",
    "        for t in doc.ents:\n",
    "            types.append(t.label_)\n",
    "        if all_same(types):\n",
    "            dic['ans_type']=types[0]\n",
    "            \n",
    "        else:\n",
    "            dic['ans_type']='multiple'\n",
    "    nq_dev_tag.append(dic)"
   ]
  },
  {
   "cell_type": "code",
   "execution_count": 21,
   "id": "259ce4f1",
   "metadata": {},
   "outputs": [
    {
     "data": {
      "text/plain": [
       "{'id': 0,\n",
       " 'question': 'when was the last time anyone was on the moon',\n",
       " 'answer': ['14 December 1972 UTC', 'December 1972'],\n",
       " 'ans_type': 'DATE'}"
      ]
     },
     "execution_count": 21,
     "metadata": {},
     "output_type": "execute_result"
    }
   ],
   "source": [
    "nq_dev_tag[0]"
   ]
  },
  {
   "cell_type": "code",
   "execution_count": 22,
   "id": "d749f4e0",
   "metadata": {},
   "outputs": [
    {
     "name": "stdout",
     "output_type": "stream",
     "text": [
      "CARDINAL 219\n",
      "DATE 638\n",
      "MONEY 14\n",
      "PERCENT 14\n",
      "QUANTITY 22\n",
      "TIME 10\n",
      "ORDINAL 13\n",
      "776\n",
      "86\n",
      "EVENT 9\n",
      "FAC 19\n",
      "GPE 322\n",
      "LANGUAGE 2\n",
      "LAW 3\n",
      "LOC 47\n",
      "NORP 75\n",
      "ORG 209\n",
      "PERSON 1101\n",
      "PRODUCT 17\n",
      "WORK_OF_ART 14\n"
     ]
    }
   ],
   "source": [
    "for num in numeric_type:\n",
    "    print(num, Counter([d['ans_type'] for d in nq_dev_tag])[num])\n",
    "print(Counter([d['ans_type'] for d in nq_dev_tag])['unknown'])\n",
    "print(Counter([d['ans_type'] for d in nq_dev_tag])['multiple'])\n",
    "for non in nonnumeric_type:\n",
    "    print(non, Counter([d['ans_type'] for d in nq_dev_tag])[non])"
   ]
  },
  {
   "cell_type": "code",
   "execution_count": 23,
   "id": "5e711b86",
   "metadata": {},
   "outputs": [],
   "source": [
    "nq_train_tag=[]\n",
    "for idx,d in enumerate(nq_train):\n",
    "    dic={}\n",
    "    dic['id']=idx\n",
    "    dic['question']=d['question']\n",
    "    dic['answer']=d['answer']\n",
    "    \n",
    "    doc = nlp(d['answer'][0])\n",
    "    types=[]\n",
    "    if len(doc.ents)==0:\n",
    "        dic['ans_type']='unknown'\n",
    "    else:\n",
    "        for t in doc.ents:\n",
    "            types.append(t.label_)\n",
    "        if all_same(types):\n",
    "            dic['ans_type']=types[0]\n",
    "            \n",
    "        else:\n",
    "            dic['ans_type']='multiple'\n",
    "    nq_train_tag.append(dic)"
   ]
  },
  {
   "cell_type": "code",
   "execution_count": 24,
   "id": "f2f0f195",
   "metadata": {},
   "outputs": [
    {
     "name": "stdout",
     "output_type": "stream",
     "text": [
      "CARDINAL 6244\n",
      "DATE 18159\n",
      "MONEY 297\n",
      "PERCENT 223\n",
      "QUANTITY 371\n",
      "TIME 226\n",
      "ORDINAL 307\n",
      "14603\n",
      "2136\n",
      "EVENT 133\n",
      "FAC 343\n",
      "GPE 6810\n",
      "LANGUAGE 85\n",
      "LAW 103\n",
      "LOC 903\n",
      "NORP 1222\n",
      "ORG 4663\n",
      "PERSON 30571\n",
      "PRODUCT 245\n",
      "WORK_OF_ART 281\n"
     ]
    }
   ],
   "source": [
    "for num in numeric_type:\n",
    "    print(num, Counter([d['ans_type'] for d in nq_train_tag])[num])\n",
    "print(Counter([d['ans_type'] for d in nq_train_tag])['unknown'])\n",
    "print(Counter([d['ans_type'] for d in nq_train_tag])['multiple'])\n",
    "for non in nonnumeric_type:\n",
    "    print(non, Counter([d['ans_type'] for d in nq_train_tag])[non])"
   ]
  },
  {
   "cell_type": "code",
   "execution_count": 28,
   "id": "e0395ee9",
   "metadata": {},
   "outputs": [],
   "source": [
    "import json"
   ]
  },
  {
   "cell_type": "code",
   "execution_count": 29,
   "id": "3e18bb7c",
   "metadata": {},
   "outputs": [],
   "source": [
    "with open('/home/donaldo9603/workspace/numeric/data/nq/original_nq_dev_anstype.json', 'w') as f:\n",
    "    json.dump(nq_dev_tag,f)\n",
    "with open('/home/donaldo9603/workspace/numeric/data/nq/original_nq_train_anstype.json', 'w') as f:\n",
    "    json.dump(nq_train_tag,f)\n",
    "    "
   ]
  },
  {
   "cell_type": "markdown",
   "id": "8a7b2341",
   "metadata": {},
   "source": [
    "### SQUAD tagging"
   ]
  },
  {
   "cell_type": "code",
   "execution_count": 140,
   "id": "02d141fe",
   "metadata": {},
   "outputs": [
    {
     "data": {
      "text/plain": [
       "{'id': '56be4db0acb8001400a502ec',\n",
       " 'title': 'Super_Bowl_50',\n",
       " 'context': 'Super Bowl 50 was an American football game to determine the champion of the National Football League (NFL) for the 2015 season. The American Football Conference (AFC) champion Denver Broncos defeated the National Football Conference (NFC) champion Carolina Panthers 24–10 to earn their third Super Bowl title. The game was played on February 7, 2016, at Levi\\'s Stadium in the San Francisco Bay Area at Santa Clara, California. As this was the 50th Super Bowl, the league emphasized the \"golden anniversary\" with various gold-themed initiatives, as well as temporarily suspending the tradition of naming each Super Bowl game with Roman numerals (under which the game would have been known as \"Super Bowl L\"), so that the logo could prominently feature the Arabic numerals 50.',\n",
       " 'question': 'Which NFL team represented the AFC at Super Bowl 50?',\n",
       " 'answers': {'text': ['Denver Broncos', 'Denver Broncos', 'Denver Broncos'],\n",
       "  'answer_start': [177, 177, 177]}}"
      ]
     },
     "execution_count": 140,
     "metadata": {},
     "output_type": "execute_result"
    }
   ],
   "source": [
    "sq_dev[0]"
   ]
  },
  {
   "cell_type": "code",
   "execution_count": 141,
   "id": "f087e023",
   "metadata": {},
   "outputs": [],
   "source": [
    "sq_dev_tag=[]\n",
    "for d in sq_dev:\n",
    "    dic={}\n",
    "    dic['question']=d['question']\n",
    "    dic['answers']=d['answers']['text']\n",
    "    \n",
    "    doc = nlp(d['answers']['text'][0])\n",
    "    types=[]\n",
    "    if len(doc.ents)==0:\n",
    "        dic['ans_type']='unknown'\n",
    "    else:\n",
    "        for t in doc.ents:\n",
    "            types.append(t.label_)\n",
    "        if all_same(types):\n",
    "            dic['ans_type']=types[0]\n",
    "            \n",
    "        else:\n",
    "            dic['ans_type']='multiple'\n",
    "    sq_dev_tag.append(dic)"
   ]
  },
  {
   "cell_type": "code",
   "execution_count": 142,
   "id": "47fe902a",
   "metadata": {},
   "outputs": [
    {
     "name": "stdout",
     "output_type": "stream",
     "text": [
      "CARDINAL 973\n",
      "DATE 956\n",
      "MONEY 99\n",
      "PERCENT 96\n",
      "QUANTITY 116\n",
      "TIME 47\n",
      "ORDINAL 63\n",
      "4437\n",
      "386\n",
      "EVENT 42\n",
      "FAC 64\n",
      "GPE 544\n",
      "LANGUAGE 7\n",
      "LAW 15\n",
      "LOC 125\n",
      "NORP 328\n",
      "ORG 987\n",
      "PERSON 1180\n",
      "PRODUCT 57\n",
      "WORK_OF_ART 48\n"
     ]
    }
   ],
   "source": [
    "for num in numeric_type:\n",
    "    print(num, Counter([d['ans_type'] for d in sq_dev_tag])[num])\n",
    "print(Counter([d['ans_type'] for d in sq_dev_tag])['unknown'])\n",
    "print(Counter([d['ans_type'] for d in sq_dev_tag])['multiple'])\n",
    "for non in nonnumeric_type:\n",
    "    print(non, Counter([d['ans_type'] for d in sq_dev_tag])[non])"
   ]
  },
  {
   "cell_type": "code",
   "execution_count": 143,
   "id": "35fbff76",
   "metadata": {},
   "outputs": [],
   "source": [
    "sq_train_tag=[]\n",
    "for d in sq_train:\n",
    "    dic={}\n",
    "    dic['question']=d['question']\n",
    "    dic['answers']=d['answers']['text']\n",
    "    \n",
    "    doc = nlp(d['answers']['text'][0])\n",
    "    types=[]\n",
    "    if len(doc.ents)==0:\n",
    "        dic['ans_type']='unknown'\n",
    "    else:\n",
    "        for t in doc.ents:\n",
    "            types.append(t.label_)\n",
    "        if all_same(types):\n",
    "            dic['ans_type']=types[0]\n",
    "            \n",
    "        else:\n",
    "            dic['ans_type']='multiple'\n",
    "    sq_train_tag.append(dic)"
   ]
  },
  {
   "cell_type": "code",
   "execution_count": 144,
   "id": "c99d115b",
   "metadata": {},
   "outputs": [
    {
     "name": "stdout",
     "output_type": "stream",
     "text": [
      "CARDINAL 8010\n",
      "DATE 8940\n",
      "MONEY 771\n",
      "PERCENT 1296\n",
      "QUANTITY 786\n",
      "TIME 294\n",
      "ORDINAL 694\n",
      "33692\n",
      "4021\n",
      "EVENT 355\n",
      "FAC 624\n",
      "GPE 5647\n",
      "LANGUAGE 154\n",
      "LAW 139\n",
      "LOC 1014\n",
      "NORP 3917\n",
      "ORG 7548\n",
      "PERSON 9110\n",
      "PRODUCT 323\n",
      "WORK_OF_ART 264\n"
     ]
    }
   ],
   "source": [
    "for num in numeric_type:\n",
    "    print(num, Counter([d['ans_type'] for d in sq_train_tag])[num])\n",
    "print(Counter([d['ans_type'] for d in sq_train_tag])['unknown'])\n",
    "print(Counter([d['ans_type'] for d in sq_train_tag])['multiple'])\n",
    "for non in nonnumeric_type:\n",
    "    print(non, Counter([d['ans_type'] for d in sq_train_tag])[non])"
   ]
  },
  {
   "cell_type": "markdown",
   "id": "30b675a8",
   "metadata": {},
   "source": [
    "### Save labeled datas"
   ]
  },
  {
   "cell_type": "code",
   "execution_count": 146,
   "id": "fd524ab1",
   "metadata": {},
   "outputs": [],
   "source": [
    "save_dir='/home/donaldo9603/workspace/numeric/data/230919_strict_spacy_tagging/nq_open_dev.json'"
   ]
  },
  {
   "cell_type": "code",
   "execution_count": 147,
   "id": "c47b145a",
   "metadata": {},
   "outputs": [],
   "source": [
    "with open(save_dir, 'w') as f:\n",
    "    json.dump(nq_dev_tag, f)"
   ]
  },
  {
   "cell_type": "code",
   "execution_count": 148,
   "id": "6e9f563b",
   "metadata": {},
   "outputs": [],
   "source": [
    "save_dir='/home/donaldo9603/workspace/numeric/data/230919_strict_spacy_tagging/nq_open_train.json'"
   ]
  },
  {
   "cell_type": "code",
   "execution_count": 149,
   "id": "d8116ff5",
   "metadata": {},
   "outputs": [],
   "source": [
    "with open(save_dir, 'w') as f:\n",
    "    json.dump(nq_train_tag, f)"
   ]
  },
  {
   "cell_type": "code",
   "execution_count": 150,
   "id": "2d6a80f5",
   "metadata": {},
   "outputs": [],
   "source": [
    "save_dir='/home/donaldo9603/workspace/numeric/data/230919_strict_spacy_tagging/squad_dev.json'"
   ]
  },
  {
   "cell_type": "code",
   "execution_count": 151,
   "id": "c7c605d1",
   "metadata": {},
   "outputs": [],
   "source": [
    "with open(save_dir, 'w') as f:\n",
    "    json.dump(sq_dev_tag, f)"
   ]
  },
  {
   "cell_type": "code",
   "execution_count": 152,
   "id": "f528a2e3",
   "metadata": {},
   "outputs": [],
   "source": [
    "save_dir='/home/donaldo9603/workspace/numeric/data/230919_strict_spacy_tagging/squad_train.json'"
   ]
  },
  {
   "cell_type": "code",
   "execution_count": 153,
   "id": "a25ae14c",
   "metadata": {},
   "outputs": [],
   "source": [
    "with open(save_dir, 'w') as f:\n",
    "    json.dump(sq_train_tag, f)"
   ]
  },
  {
   "cell_type": "code",
   "execution_count": null,
   "id": "a312a619",
   "metadata": {},
   "outputs": [],
   "source": []
  }
 ],
 "metadata": {
  "kernelspec": {
   "display_name": "Python [conda:.conda-numeric]",
   "language": "python",
   "name": "conda-env-.conda-numeric-py"
  },
  "language_info": {
   "codemirror_mode": {
    "name": "ipython",
    "version": 3
   },
   "file_extension": ".py",
   "mimetype": "text/x-python",
   "name": "python",
   "nbconvert_exporter": "python",
   "pygments_lexer": "ipython3",
   "version": "3.11.5"
  }
 },
 "nbformat": 4,
 "nbformat_minor": 5
}
