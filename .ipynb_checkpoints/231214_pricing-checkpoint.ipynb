{
 "cells": [
  {
   "cell_type": "code",
   "execution_count": 1,
   "id": "1b1dd713",
   "metadata": {},
   "outputs": [],
   "source": [
    "import json\n",
    "import tiktoken"
   ]
  },
  {
   "cell_type": "code",
   "execution_count": 2,
   "id": "3672b86e",
   "metadata": {},
   "outputs": [],
   "source": [
    "encoding = tiktoken.get_encoding(\"cl100k_base\")"
   ]
  },
  {
   "cell_type": "code",
   "execution_count": 3,
   "id": "8465bc6a",
   "metadata": {},
   "outputs": [],
   "source": [
    "def num_tokens_from_string(string: str, encoding_name: str) -> int:\n",
    "    \"\"\"Returns the number of tokens in a text string.\"\"\"\n",
    "    encoding = tiktoken.get_encoding(encoding_name)\n",
    "    num_tokens = len(encoding.encode(string))\n",
    "    return num_tokens\n"
   ]
  },
  {
   "cell_type": "markdown",
   "id": "f7b6a4b1",
   "metadata": {},
   "source": [
    "### NQ-expansion-zero"
   ]
  },
  {
   "cell_type": "code",
   "execution_count": 75,
   "id": "0ca51b77",
   "metadata": {},
   "outputs": [],
   "source": [
    "data_dir='/home/donaldo9603/workspace/numeric/gptexpansion/out/49168/NQ_eval.json'"
   ]
  },
  {
   "cell_type": "code",
   "execution_count": 76,
   "id": "e4cfa3e2",
   "metadata": {},
   "outputs": [],
   "source": [
    "with open(data_dir) as f:\n",
    "    data=json.load(f)"
   ]
  },
  {
   "cell_type": "code",
   "execution_count": 78,
   "id": "076233f0",
   "metadata": {},
   "outputs": [
    {
     "data": {
      "text/plain": [
       "dict_keys(['question', 'golden_answer', 'answer_fid', 'judge_fid', 'answer_gpt35', 'judge_gpt35', 'answer_chatgpt', 'judge_chatgpt', 'answer_gpt4', 'judge_gpt4', 'answer_newbing', 'judge_newbing', 'improper', 'ans_type', 'expand', 'fb', 'inst_expand'])"
      ]
     },
     "execution_count": 78,
     "metadata": {},
     "output_type": "execute_result"
    }
   ],
   "source": [
    "data[0].keys()"
   ]
  },
  {
   "cell_type": "code",
   "execution_count": 85,
   "id": "26127b93",
   "metadata": {},
   "outputs": [],
   "source": [
    "input_sum=0\n",
    "output_sum=0\n",
    "instruction=\"You are a given a question and a set of gold-standard reference answers (split with /) written by experts. Your task is to provide other forms of gold reference answers that can also be correct for the given question. Split your answers with /.\\n\"\n",
    "for d in data:\n",
    "    answer=''\n",
    "    for ans in d['golden_answer']:\n",
    "        answer+=ans+'/'\n",
    "    answer=answer[:-1]\n",
    "    input=instruction\n",
    "    input+=\"Question: {}\\nGold Answers: {}\\n\".format(d['question'], answer)\n",
    "    output=''\n",
    "    for ans in d['inst_expand'][1:]:        \n",
    "        output+=ans+'/'\n",
    "    output=output[:-1]\n",
    "    input_sum+=num_tokens_from_string(input, 'cl100k_base')\n",
    "    output_sum+=num_tokens_from_string(output, 'cl100k_base')\n"
   ]
  },
  {
   "cell_type": "code",
   "execution_count": 86,
   "id": "3558e00f",
   "metadata": {},
   "outputs": [
    {
     "name": "stdout",
     "output_type": "stream",
     "text": [
      "0.563298\n"
     ]
    }
   ],
   "source": [
    "print((input_sum*0.0015+output_sum*0.002)/1000)"
   ]
  },
  {
   "cell_type": "markdown",
   "id": "627c3016",
   "metadata": {},
   "source": [
    "### NQ-expansion-random"
   ]
  },
  {
   "cell_type": "code",
   "execution_count": 402,
   "id": "b1a7df7a",
   "metadata": {},
   "outputs": [],
   "source": [
    "data_dir='/home/donaldo9603/workspace/numeric/gptexpansion/out/51850/NQ_eval.json'"
   ]
  },
  {
   "cell_type": "code",
   "execution_count": 403,
   "id": "b0143c2a",
   "metadata": {},
   "outputs": [],
   "source": [
    "with open(data_dir) as f:\n",
    "    data=json.load(f)"
   ]
  },
  {
   "cell_type": "code",
   "execution_count": 409,
   "id": "30cd7dfe",
   "metadata": {},
   "outputs": [
    {
     "data": {
      "text/plain": [
       "dict_keys(['question', 'golden_answer', 'answer_fid', 'judge_fid', 'answer_gpt35', 'judge_gpt35', 'answer_chatgpt', 'judge_chatgpt', 'answer_gpt4', 'judge_gpt4', 'answer_newbing', 'judge_newbing', 'improper', 'ans_type', 'expand', 'fb'])"
      ]
     },
     "execution_count": 409,
     "metadata": {},
     "output_type": "execute_result"
    }
   ],
   "source": [
    "data[5].keys()"
   ]
  },
  {
   "cell_type": "code",
   "execution_count": 410,
   "id": "e558cc16",
   "metadata": {},
   "outputs": [
    {
     "ename": "KeyError",
     "evalue": "'inst_expand'",
     "output_type": "error",
     "traceback": [
      "\u001b[0;31m---------------------------------------------------------------------------\u001b[0m",
      "\u001b[0;31mKeyError\u001b[0m                                  Traceback (most recent call last)",
      "Cell \u001b[0;32mIn[410], line 6\u001b[0m\n\u001b[1;32m      3\u001b[0m \u001b[38;5;28;01mfor\u001b[39;00m d \u001b[38;5;129;01min\u001b[39;00m data:\n\u001b[1;32m      4\u001b[0m     \u001b[38;5;66;03m#input=d['inst_expand_input']\u001b[39;00m\n\u001b[1;32m      5\u001b[0m     output\u001b[38;5;241m=\u001b[39m\u001b[38;5;124m'\u001b[39m\u001b[38;5;124m'\u001b[39m\n\u001b[0;32m----> 6\u001b[0m     \u001b[38;5;28;01mfor\u001b[39;00m ans \u001b[38;5;129;01min\u001b[39;00m d[\u001b[38;5;124m'\u001b[39m\u001b[38;5;124minst_expand\u001b[39m\u001b[38;5;124m'\u001b[39m][\u001b[38;5;241m1\u001b[39m:]:        \n\u001b[1;32m      7\u001b[0m         output\u001b[38;5;241m+\u001b[39m\u001b[38;5;241m=\u001b[39mans\u001b[38;5;241m+\u001b[39m\u001b[38;5;124m'\u001b[39m\u001b[38;5;124m/\u001b[39m\u001b[38;5;124m'\u001b[39m\n\u001b[1;32m      8\u001b[0m     output\u001b[38;5;241m=\u001b[39moutput[:\u001b[38;5;241m-\u001b[39m\u001b[38;5;241m1\u001b[39m]\n",
      "\u001b[0;31mKeyError\u001b[0m: 'inst_expand'"
     ]
    }
   ],
   "source": [
    "input_sum=0\n",
    "output_sum=0\n",
    "for d in data:\n",
    "    #input=d['inst_expand_input']\n",
    "    output=''\n",
    "    for ans in d['inst_expand'][1:]:        \n",
    "        output+=ans+'/'\n",
    "    output=output[:-1]\n",
    "    input_sum+=num_tokens_from_string(input, 'cl100k_base')\n",
    "    output_sum+=num_tokens_from_string(output, 'cl100k_base')\n"
   ]
  },
  {
   "cell_type": "code",
   "execution_count": 214,
   "id": "a7731e28",
   "metadata": {},
   "outputs": [
    {
     "name": "stdout",
     "output_type": "stream",
     "text": [
      "You are a given a question and a set of gold-standard reference answers (split with /) written by experts. Your task is to provide other forms of gold reference answers that can also be correct for the given question. Split your answers with /.\n",
      "Question: where does the movie great outdoors take place\n",
      "Gold Answers:  Wisconsin/Montana/Colorado/Minnesota/California/Wisconsin/Oregon\n",
      "Question: when did mc hammer can't touch this\n",
      "Gold Answers: 1990-01-13T00:00:00.000000000/January 13, 1990/1990-01-13T00:00:00.000Z/1990-01-13T00:00:00.000000Z/1990-01/1990-01-13T00:00:00Z/1990/1990-01-13/1990-01-13T00:00:00.000000000000Z/1990-01-13T00:00:00/1990-01-13T00:00:00.000000/1990-01-13T00:00:00.000000000000/1990-01-13T00:00:00.000000000Z\n",
      "Question: what's the most home runs hit in the home run derby\n",
      "Gold Answers: 91\n",
      "Question: who played nanny in nanny and the professor\n",
      "Gold Answers: Juliet/Juliet Mills/Gold Answers: Juliet Mills\n",
      "Question: how many secondary schools are there in wales\n",
      "Gold Answers: There are 205 secondary schools in Wales./205\n",
      "Question: where was the battle of bunker hill actually fought\n",
      "Gold Answers: Boston/Gold Answers: Breed's Hill/Charlestown, Boston/Bunker Hill, Charlestown/ Bunker Hill/Breed's Hill, Bunker Hill/Breed's Hill\n",
      "Question: who played the little boy in close encounters of the third kind\n",
      "Gold Answers: Barry Gufton III/Cary Guffey/Barry Gufton Jr./Barry Gufton\n",
      "Question: who has been nominated for the most best actor oscars\n",
      "Gold Answers: Tom Hanks/ Spencer Tracy/Spencer Tracy/F. Murray Abraham/Burt Lancaster/Laurence Olivier/Marlon Brando/Lee Marvin/Gene Hackman/Yul Brynner/Gregory Peck/Al Pacino/Paul Newman/Rex Harrison/Fredric March/John Wayne/Dustin Hoffman/Peter O'Toole/Paul/Sean Penn/Clark Gable/Walter Matthau/James Stewart/George C. Scott/Maximilian Schell/William Holden/Gary Cooper/Charlton Heston/Jon Voight/Peter Finch/Ben Kingsley/Robert Duvall/Art Carney/Alec Guinness/Cliff Robertson/Jack Lemmon/Jack Nicholson/Denzel Washington/Richard Burton/Peter Sellers/Daniel Day-Lewis/Rod Steiger/Sidney Poitier/William Hurt/Anthony Hopkins/Robert De Niro\n",
      "Question: when did computer become widespread in homes and schools\n",
      "Gold Answers: 1980s/\n"
     ]
    }
   ],
   "source": [
    "print(input)"
   ]
  },
  {
   "cell_type": "code",
   "execution_count": 153,
   "id": "c56c9ce5",
   "metadata": {},
   "outputs": [
    {
     "name": "stdout",
     "output_type": "stream",
     "text": [
      "3.9005715\n"
     ]
    }
   ],
   "source": [
    "print((input_sum*0.0015+output_sum*0.002)/1000)"
   ]
  },
  {
   "cell_type": "code",
   "execution_count": 198,
   "id": "43fc43a3",
   "metadata": {},
   "outputs": [],
   "source": [
    "input_sum=0\n",
    "output_sum=0\n",
    "for d in data:\n",
    "    input=new_instruction\n",
    "    output=''\n",
    "    for ans in d['inst_expand'][1:]:        \n",
    "        output+=ans+'/'\n",
    "    output=output[:-1]\n",
    "    input_sum+=num_tokens_from_string(input, 'cl100k_base')\n",
    "    output_sum+=num_tokens_from_string(output, 'cl100k_base')\n"
   ]
  },
  {
   "cell_type": "code",
   "execution_count": 199,
   "id": "5bcc6798",
   "metadata": {},
   "outputs": [
    {
     "name": "stdout",
     "output_type": "stream",
     "text": [
      "1.83918\n"
     ]
    }
   ],
   "source": [
    "print((input_sum*0.0015)/1000)"
   ]
  },
  {
   "cell_type": "markdown",
   "id": "09e7652e",
   "metadata": {},
   "source": [
    "### NQ-expansion-entity"
   ]
  },
  {
   "cell_type": "code",
   "execution_count": 200,
   "id": "a3cbe2e1",
   "metadata": {},
   "outputs": [],
   "source": [
    "data_dir='/home/donaldo9603/workspace/numeric/gptexpansion/out/51097/NQ_eval.json'"
   ]
  },
  {
   "cell_type": "code",
   "execution_count": 201,
   "id": "541bac20",
   "metadata": {},
   "outputs": [],
   "source": [
    "with open(data_dir) as f:\n",
    "    data=json.load(f)"
   ]
  },
  {
   "cell_type": "code",
   "execution_count": 202,
   "id": "1c565869",
   "metadata": {},
   "outputs": [],
   "source": [
    "input_sum=0\n",
    "output_sum=0\n",
    "for d in data:\n",
    "    input=d['inst_expand_input']\n",
    "    output=''\n",
    "    for ans in d['inst_expand'][1:]:        \n",
    "        output+=ans+'/'\n",
    "    output=output[:-1]\n",
    "    input_sum+=num_tokens_from_string(input, 'cl100k_base')\n",
    "    output_sum+=num_tokens_from_string(output, 'cl100k_base')\n"
   ]
  },
  {
   "cell_type": "code",
   "execution_count": 203,
   "id": "c5da335c",
   "metadata": {},
   "outputs": [
    {
     "name": "stdout",
     "output_type": "stream",
     "text": [
      "1.9263690000000002\n"
     ]
    }
   ],
   "source": [
    "print((input_sum*0.0015+output_sum*0.002)/1000)"
   ]
  },
  {
   "cell_type": "code",
   "execution_count": 204,
   "id": "738299fe",
   "metadata": {},
   "outputs": [
    {
     "name": "stdout",
     "output_type": "stream",
     "text": [
      "1.700709\n"
     ]
    }
   ],
   "source": [
    "print((input_sum*0.0015)/1000)"
   ]
  },
  {
   "cell_type": "code",
   "execution_count": 118,
   "id": "2d8d5bf0",
   "metadata": {},
   "outputs": [
    {
     "data": {
      "text/plain": [
       "\"You are a given a question and a set of gold-standard reference answers (split with /) written by experts. Your task is to provide other forms of gold reference answers that can also be correct for the given question. Split your answers with /.\\nQuestion: where did lucy jones come in the eurovision 2017\\nGold Answers: 15th place/15th/fifteenth/fifteenth place\\nQuestion: How many physicians did Namibia have in 2002?\\nGold Answers: 598/almost 600/approximately 600/five hundred ninety eight/approx. 600/almost 600\\nQuestion: how much of canada's gdp is oil\\nGold Answers: 2.9%/almost 3%/about 3%\\nQuestion: How tall was John?\\nGold Answers: 5 ft 5 in/5 feet 5 inches/165cm/1.65m/1.65 meters\\nQuestion: how much money does the iditarod winner get\\nGold Answers: $69,000/69,000 dollars/about $70,000\\nQuestion: who was the publisher of brave new world\\nGold Answers: Chatto & Windus/Chatto and Windus/Chatto&Windus\\nQuestion: where did kate and prince william get engaged\\nGold Answers: Kenya/Rutundu, Kenya/Rutundu/East Africa\\nQuestion: On what date did India gain its independence?\\nGold Answers: 15 August 1947/1947/Aug 1947/August 1947/August 15 1947/August 15th 1947/Aug 15, 1947\\nQuestion: when did computer become widespread in homes and schools\\nGold Answers: 1980s/\""
      ]
     },
     "execution_count": 118,
     "metadata": {},
     "output_type": "execute_result"
    }
   ],
   "source": [
    "input"
   ]
  },
  {
   "cell_type": "markdown",
   "id": "f0b4d0cd",
   "metadata": {},
   "source": [
    "### TQ-expansion-zero"
   ]
  },
  {
   "cell_type": "code",
   "execution_count": 92,
   "id": "290c995f",
   "metadata": {},
   "outputs": [],
   "source": [
    "data_dir='/home/donaldo9603/workspace/numeric/gptexpansion/out/49302/TQ_eval.json'"
   ]
  },
  {
   "cell_type": "code",
   "execution_count": 93,
   "id": "3aff0ec0",
   "metadata": {},
   "outputs": [],
   "source": [
    "with open(data_dir) as f:\n",
    "    data=json.load(f)"
   ]
  },
  {
   "cell_type": "code",
   "execution_count": 94,
   "id": "52ea2926",
   "metadata": {},
   "outputs": [],
   "source": [
    "input_sum=0\n",
    "output_sum=0\n",
    "instruction=\"You are a given a question and a set of gold-standard reference answers (split with /) written by experts. Your task is to provide other forms of gold reference answers that can also be correct for the given question. Split your answers with /.\\n\"\n",
    "for d in data:\n",
    "    answer=''\n",
    "    for ans in d['golden_answer']:\n",
    "        answer+=ans+'/'\n",
    "    answer=answer[:-1]\n",
    "    input=instruction\n",
    "    input+=\"Question: {}\\nGold Answers: {}\\n\".format(d['question'], answer)\n",
    "    output=''\n",
    "    for ans in d['inst_expand'][1:]:        \n",
    "        output+=ans+'/'\n",
    "    output=output[:-1]\n",
    "    input_sum+=num_tokens_from_string(input, 'cl100k_base')\n",
    "    output_sum+=num_tokens_from_string(output, 'cl100k_base')\n"
   ]
  },
  {
   "cell_type": "code",
   "execution_count": 95,
   "id": "dee83272",
   "metadata": {},
   "outputs": [
    {
     "name": "stdout",
     "output_type": "stream",
     "text": [
      "0.457544\n"
     ]
    }
   ],
   "source": [
    "print((input_sum*0.0015+output_sum*0.002)/1000)"
   ]
  },
  {
   "cell_type": "markdown",
   "id": "f42f72fe",
   "metadata": {},
   "source": [
    "### TQ-expansion-random"
   ]
  },
  {
   "cell_type": "code",
   "execution_count": 411,
   "id": "c9c6e84a",
   "metadata": {},
   "outputs": [],
   "source": [
    "data_dir='/home/donaldo9603/workspace/numeric/gptexpansion/out/51852/TQ_eval.json'"
   ]
  },
  {
   "cell_type": "code",
   "execution_count": 412,
   "id": "5e964b07",
   "metadata": {},
   "outputs": [],
   "source": [
    "with open(data_dir) as f:\n",
    "    data=json.load(f)"
   ]
  },
  {
   "cell_type": "code",
   "execution_count": 413,
   "id": "a41a3fb7",
   "metadata": {},
   "outputs": [
    {
     "data": {
      "text/plain": [
       "dict_keys(['question', 'golden_answer', 'answer_fid', 'judge_fid', 'answer_gpt35', 'judge_gpt35', 'answer_chatgpt', 'judge_chatgpt', 'answer_gpt4', 'judge_gpt4', 'answer_newbing', 'judge_newbing', 'improper', 'ans_type', 'fb', 'wiki'])"
      ]
     },
     "execution_count": 413,
     "metadata": {},
     "output_type": "execute_result"
    }
   ],
   "source": [
    "data[0].keys()"
   ]
  },
  {
   "cell_type": "code",
   "execution_count": 389,
   "id": "eef10932",
   "metadata": {},
   "outputs": [],
   "source": [
    "input_sum=0\n",
    "output_sum=0\n",
    "for d in data:\n",
    "    input=d['inst_expand_input']\n",
    "    output=''\n",
    "    for ans in d['inst_expand'][1:]:        \n",
    "        output+=ans+'/'\n",
    "    output=output[:-1]\n",
    "    input_sum+=num_tokens_from_string(input, 'cl100k_base')\n",
    "    output_sum+=num_tokens_from_string(output, 'cl100k_base')\n"
   ]
  },
  {
   "cell_type": "code",
   "execution_count": 390,
   "id": "c51cc101",
   "metadata": {},
   "outputs": [
    {
     "name": "stdout",
     "output_type": "stream",
     "text": [
      "1.6818389999999999\n"
     ]
    }
   ],
   "source": [
    "print((input_sum*0.0015+output_sum*0.002)/1000)"
   ]
  },
  {
   "cell_type": "code",
   "execution_count": 391,
   "id": "ab1639ec",
   "metadata": {},
   "outputs": [
    {
     "name": "stdout",
     "output_type": "stream",
     "text": [
      "You are a given a question and a set of gold-standard reference answers (split with /) written by experts. Your task is to provide other forms of gold reference answers that can also be correct for the given question. Split your answers with /.\n",
      "Question: Composers Beethoven and Schubert both died after completing which number symphony?\n",
      "Gold Answers: Eight/9/Nine/8\n",
      "Question: In the Bible, who is the father of Shem, Ham and Japheth?\n",
      "Gold Answers: Abraham/Noah/Jacob/Adam/Lamech/Terah/Isaac\n",
      "Question: Lumia is a product brand of which phone company?\n",
      "Gold Answers: FIH Mobile/ Microsoft/HMD Global/Nokia/Foxconn/Microsoft\n",
      "Question: Who is the mother of actress Vanessa Redgrave?\n",
      "Gold Answers: Gold Answers: Rachel Kempson/Actress Lynn Redgrave's mother/Georgiana Drew/Rachel Kempson/Actress Vanessa Redgrave's mother\n",
      "Question: Which US band named themselves after their strict gym teacher at their high school, Mr Skinner.\n",
      "Gold Answers: The Beach Boys (Brian Wilson, Dennis Wilson, Carl Wilson, Mike Love, and Al Jardine)/Lynyrd Skynyrd (Leonard Skinner)./The Eagles (Glenn Frey, Don Henley, Bernie Leadon, and Randy Meisner)/The Allman Brothers Band (Duane Allman, Gregg Allman, Dickey Betts, Berry Oakley, Butch Trucks, Jai Johanny Johanson, and Chuck Leavell) \n",
      "Question: What was abolished in Russia in 1861?\n",
      "Gold Answers: Emancipation of serfs/Serfdom was abolished/Emancipation of serfs in Russia/The Emancipation Manifesto of 1861/Serfdom/ Serfdom was abolished in 1861\n",
      "Question: What is significant about a mountain called a ‘mesa’?\n",
      "Gold Answers:  Table/Flat Topped/Elevated/Plateau/Flat/Highland/Steep-sided/Butte/Geological Formation\n",
      "Question: Which US actress's real name is Mary Cathleen Collins?\n",
      "Gold Answers: Mary Collins/Bo Derek Collins/Bo Derek/Mary Cathleen Collins\n",
      "Question: The wine ‘Bull’s Blood’ of Eger is produced in which country?\n",
      "Gold Answers: Hungary/\n"
     ]
    }
   ],
   "source": [
    "print(input)"
   ]
  },
  {
   "cell_type": "code",
   "execution_count": 372,
   "id": "b3cadfb0",
   "metadata": {},
   "outputs": [],
   "source": [
    "input_sum=0\n",
    "output_sum=0\n",
    "for d in data:\n",
    "    input=new_instruction\n",
    "    output=''\n",
    "    for ans in d['inst_expand'][1:]:        \n",
    "        output+=ans+'/'\n",
    "    output=output[:-1]\n",
    "    input_sum+=num_tokens_from_string(input, 'cl100k_base')\n",
    "    output_sum+=num_tokens_from_string(output, 'cl100k_base')\n"
   ]
  },
  {
   "cell_type": "code",
   "execution_count": 373,
   "id": "582f3eec",
   "metadata": {},
   "outputs": [
    {
     "name": "stdout",
     "output_type": "stream",
     "text": [
      "1.230532\n"
     ]
    }
   ],
   "source": [
    "print((input_sum*0.0015+output_sum*0.002)/1000)"
   ]
  },
  {
   "cell_type": "code",
   "execution_count": 374,
   "id": "005ea4d5",
   "metadata": {},
   "outputs": [
    {
     "name": "stdout",
     "output_type": "stream",
     "text": [
      "1.168614\n"
     ]
    }
   ],
   "source": [
    "print((input_sum*0.0015)/1000)"
   ]
  },
  {
   "cell_type": "markdown",
   "id": "3d0a742d",
   "metadata": {},
   "source": [
    "### TQ-expansion-entity"
   ]
  },
  {
   "cell_type": "code",
   "execution_count": 375,
   "id": "71b20f85",
   "metadata": {},
   "outputs": [],
   "source": [
    "data_dir='/home/donaldo9603/workspace/numeric/gptexpansion/out/51098/TQ_eval.json'"
   ]
  },
  {
   "cell_type": "code",
   "execution_count": 376,
   "id": "b334d354",
   "metadata": {},
   "outputs": [],
   "source": [
    "with open(data_dir) as f:\n",
    "    data=json.load(f)"
   ]
  },
  {
   "cell_type": "code",
   "execution_count": 377,
   "id": "cf9aa04b",
   "metadata": {},
   "outputs": [],
   "source": [
    "input_sum=0\n",
    "output_sum=0\n",
    "for d in data:\n",
    "    input=d['inst_expand_input']\n",
    "    output=''\n",
    "    for ans in d['inst_expand'][1:]:        \n",
    "        output+=ans+'/'\n",
    "    output=output[:-1]\n",
    "    input_sum+=num_tokens_from_string(input, 'cl100k_base')\n",
    "    output_sum+=num_tokens_from_string(output, 'cl100k_base')\n"
   ]
  },
  {
   "cell_type": "code",
   "execution_count": 378,
   "id": "81ecd22d",
   "metadata": {},
   "outputs": [
    {
     "name": "stdout",
     "output_type": "stream",
     "text": [
      "1.112377\n"
     ]
    }
   ],
   "source": [
    "print((input_sum*0.0015+output_sum*0.002)/1000)"
   ]
  },
  {
   "cell_type": "code",
   "execution_count": 379,
   "id": "ca049630",
   "metadata": {},
   "outputs": [
    {
     "name": "stdout",
     "output_type": "stream",
     "text": [
      "1.050459\n"
     ]
    }
   ],
   "source": [
    "print((input_sum*0.0015)/1000)"
   ]
  },
  {
   "cell_type": "markdown",
   "id": "750d45ad",
   "metadata": {},
   "source": [
    "### NQ-inference"
   ]
  },
  {
   "cell_type": "code",
   "execution_count": 45,
   "id": "d3d0429f",
   "metadata": {},
   "outputs": [],
   "source": [
    "data_dir='/home/donaldo9603/workspace/numeric/gpteval_inst/out/50614/NQ_eval.json'"
   ]
  },
  {
   "cell_type": "code",
   "execution_count": 46,
   "id": "caa77722",
   "metadata": {},
   "outputs": [],
   "source": [
    "with open(data_dir) as f:\n",
    "    data=json.load(f)"
   ]
  },
  {
   "cell_type": "code",
   "execution_count": 47,
   "id": "29fa4f47",
   "metadata": {},
   "outputs": [
    {
     "data": {
      "text/plain": [
       "dict_keys(['question', 'golden_answer', 'answer_fid', 'judge_fid', 'answer_gpt35', 'judge_gpt35', 'answer_chatgpt', 'judge_chatgpt', 'answer_gpt4', 'judge_gpt4', 'answer_newbing', 'judge_newbing', 'improper', 'ans_type', 'expand', 'fb', 'hardem_gpt4', 'softem_gpt4', 'f1_gpt4', 'bem_gpt4', 'instzero_gpt4', 'instzero_gpt4_prompt'])"
      ]
     },
     "execution_count": 47,
     "metadata": {},
     "output_type": "execute_result"
    }
   ],
   "source": [
    "data[0].keys()"
   ]
  },
  {
   "cell_type": "code",
   "execution_count": 48,
   "id": "7c19fa92",
   "metadata": {},
   "outputs": [],
   "source": [
    "for d in data:\n",
    "    input=d['instzero_gpt4_prompt']\n",
    "    output=d['instzero_gpt4']\n",
    "    input_sum+=num_tokens_from_string(input, 'cl100k_base')\n",
    "    output_sum+=num_tokens_from_string(output, 'cl100k_base')\n"
   ]
  },
  {
   "cell_type": "code",
   "execution_count": 50,
   "id": "b33e2141",
   "metadata": {},
   "outputs": [
    {
     "name": "stdout",
     "output_type": "stream",
     "text": [
      "0.49677899999999997\n"
     ]
    }
   ],
   "source": [
    "print((input_sum*0.0015+output_sum*0.002)/1000/5)"
   ]
  },
  {
   "cell_type": "markdown",
   "id": "e0fb2092",
   "metadata": {},
   "source": [
    "### TQ-inference"
   ]
  },
  {
   "cell_type": "code",
   "execution_count": 70,
   "id": "1da9d1e0",
   "metadata": {},
   "outputs": [],
   "source": [
    "data_dir='/home/donaldo9603/workspace/numeric/gpteval_inst/out/50618/TQ_eval.json'"
   ]
  },
  {
   "cell_type": "code",
   "execution_count": 71,
   "id": "6897d952",
   "metadata": {},
   "outputs": [],
   "source": [
    "with open(data_dir) as f:\n",
    "    data=json.load(f)"
   ]
  },
  {
   "cell_type": "code",
   "execution_count": 72,
   "id": "7cb1a7ba",
   "metadata": {},
   "outputs": [],
   "source": [
    "for d in data:\n",
    "    input=d['instzero_gpt4_prompt']\n",
    "    output=d['instzero_gpt4']\n",
    "    input_sum+=num_tokens_from_string(input, 'cl100k_base')\n",
    "    output_sum+=num_tokens_from_string(output, 'cl100k_base')\n"
   ]
  },
  {
   "cell_type": "code",
   "execution_count": 74,
   "id": "75d08151",
   "metadata": {},
   "outputs": [
    {
     "name": "stdout",
     "output_type": "stream",
     "text": [
      "0.3151733\n"
     ]
    }
   ],
   "source": [
    "print((input_sum*0.0015+output_sum*0.002)/1000/5)"
   ]
  },
  {
   "cell_type": "markdown",
   "id": "986bc055",
   "metadata": {},
   "source": [
    "### Random_few sort"
   ]
  },
  {
   "cell_type": "code",
   "execution_count": 166,
   "id": "6da72466",
   "metadata": {},
   "outputs": [],
   "source": [
    "from eval import normalize_answer"
   ]
  },
  {
   "cell_type": "code",
   "execution_count": 392,
   "id": "ae85e63f",
   "metadata": {},
   "outputs": [],
   "source": [
    "with open(\"/home/donaldo9603/workspace/numeric/data/evouna/few_shot/1201NQ_train_expansion.json\") as f:\n",
    "    nq_few=json.load(f)"
   ]
  },
  {
   "cell_type": "code",
   "execution_count": 393,
   "id": "9ae5c83d",
   "metadata": {},
   "outputs": [],
   "source": [
    "for d in nq_few['random']:\n",
    "    inst_exp=[]\n",
    "    for ans in d['expand']:\n",
    "        inst_exp.append(normalize_answer(ans))\n",
    "    inst_exp=list(set(inst_exp))\n",
    "    if len(inst_exp)>7:\n",
    "        inst_exp=inst_exp[:7]\n",
    "    d['expand']=inst_exp"
   ]
  },
  {
   "cell_type": "code",
   "execution_count": 394,
   "id": "1f6a4cf1",
   "metadata": {},
   "outputs": [],
   "source": [
    "new_instruction=instruction\n",
    "for d in nq_few['random']:\n",
    "    ans=''\n",
    "    for a in d['expand']:\n",
    "        ans+=a+'/'\n",
    "    ans=ans[:-1]\n",
    "    new_instruction+=\"Question: {}\\nGold Answers: {}\\n\".format(d['question'], ans)"
   ]
  },
  {
   "cell_type": "code",
   "execution_count": 397,
   "id": "2410ff54",
   "metadata": {},
   "outputs": [
    {
     "name": "stdout",
     "output_type": "stream",
     "text": [
      "You are a given a question and a set of gold-standard reference answers (split with /) written by experts. Your task is to provide other forms of gold reference answers that can also be correct for the given question. Split your answers with /.\n",
      "Question: who has been nominated for the most best actor oscars\n",
      "Gold Answers: maximilian schell/george c scott/gregory peck/tom hanks/anthony hopkins/robert de niro/f murray abraham\n",
      "Question: what's the most home runs hit in the home run derby\n",
      "Gold Answers: 91\n",
      "Question: who played nanny in nanny and the professor\n",
      "Gold Answers: gold answers juliet mills/juliet mills/juliet\n",
      "Question: when did mc hammer can't touch this\n",
      "Gold Answers: 1990 01 13/1990 01 13t00 00 00 000000000z/january 13 1990/1990 01 13t00 00 00/1990 01 13t00 00 00 000000000/1990 01/1990 01 13t00 00 00z\n",
      "Question: who played the little boy in close encounters of the third kind\n",
      "Gold Answers: barry gufton iii/barry gufton jr/barry gufton/cary guffey\n",
      "Question: where does the movie great outdoors take place\n",
      "Gold Answers: minnesota/wisconsin/california/montana/colorado/oregon\n",
      "Question: how many secondary schools are there in wales\n",
      "Gold Answers: there are 205 secondary schools in wales/205\n",
      "Question: where was the battle of bunker hill actually fought\n",
      "Gold Answers: gold answers breed s hill/breed s hill/breed s hill bunker hill/charlestown boston/bunker hill/boston/bunker hill charlestown\n",
      "\n"
     ]
    }
   ],
   "source": [
    "print(new_instruction)"
   ]
  },
  {
   "cell_type": "code",
   "execution_count": 238,
   "id": "2bb3f9e4",
   "metadata": {},
   "outputs": [],
   "source": [
    "with open(\"/home/donaldo9603/workspace/numeric/data/evouna/few_shot/1201NQ_train_expansion.json\", 'w') as f:\n",
    "    json.dump(nq_few,f )"
   ]
  },
  {
   "cell_type": "code",
   "execution_count": 368,
   "id": "500ed9ed",
   "metadata": {},
   "outputs": [],
   "source": [
    "with open(\"/home/donaldo9603/workspace/numeric/data/evouna/few_shot/1201TQ_train_expansion.json\") as f:\n",
    "    tq_few=json.load(f)"
   ]
  },
  {
   "cell_type": "code",
   "execution_count": 369,
   "id": "ad81c9dc",
   "metadata": {},
   "outputs": [],
   "source": [
    "for d in tq_few['random']:\n",
    "    inst_exp=[]\n",
    "    for ans in d['expand']:\n",
    "        inst_exp.append(normalize_answer(ans))\n",
    "    inst_exp=list(set(inst_exp))\n",
    "    if len(inst_exp)>4:\n",
    "        inst_exp=inst_exp[:4]\n",
    "    d['expand']=inst_exp"
   ]
  },
  {
   "cell_type": "code",
   "execution_count": 370,
   "id": "dde652b2",
   "metadata": {},
   "outputs": [],
   "source": [
    "new_instruction=instruction\n",
    "for d in tq_few['random']:\n",
    "    ans=''\n",
    "    for a in d['expand']:\n",
    "        ans+=a+'/'\n",
    "    ans=ans[:-1]\n",
    "    new_instruction+=\"Question: {}\\nGold Answers: {}\\n\".format(d['question'], ans)"
   ]
  },
  {
   "cell_type": "code",
   "execution_count": 371,
   "id": "8c37d3ae",
   "metadata": {},
   "outputs": [
    {
     "data": {
      "text/plain": [
       "\"You are a given a question and a set of gold-standard reference answers (split with /) written by experts. Your task is to provide other forms of gold reference answers that can also be correct for the given question. Split your answers with /.\\nQuestion: Which US actress's real name is Mary Cathleen Collins?\\nGold Answers: bo derek/mary cathleen collins/bo derek collins/mary collins\\nQuestion: Lumia is a product brand of which phone company?\\nGold Answers: microsoft/fih mobile/nokia/foxconn\\nQuestion: Who is the mother of actress Vanessa Redgrave?\\nGold Answers: actress lynn redgrave s mother/georgiana drew/gold answers rachel kempson/actress vanessa redgrave s mother\\nQuestion: In the Bible, who is the father of Shem, Ham and Japheth?\\nGold Answers: abraham/terah/adam/jacob\\nQuestion: What is significant about a mountain called a ‘mesa’?\\nGold Answers: plateau/flat/geological formation/butte\\nQuestion: Composers Beethoven and Schubert both died after completing which number symphony?\\nGold Answers: nine/eight/8/9\\nQuestion: Which US band named themselves after their strict gym teacher at their high school, Mr Skinner.\\nGold Answers: eagles glenn frey don henley bernie leadon and randy meisner/beach boys brian wilson dennis wilson carl wilson mike love and al jardine/allman brothers band duane allman gregg allman dickey betts berry oakley butch trucks jai johanny johanson and chuck leavell/lynyrd skynyrd leonard skinner\\nQuestion: What was abolished in Russia in 1861?\\nGold Answers: emancipation of serfs in russia/serfdom/emancipation manifesto of 1861/emancipation of serfs\\n\""
      ]
     },
     "execution_count": 371,
     "metadata": {},
     "output_type": "execute_result"
    }
   ],
   "source": [
    "new_instruction"
   ]
  },
  {
   "cell_type": "code",
   "execution_count": 380,
   "id": "a49f1e2f",
   "metadata": {},
   "outputs": [],
   "source": [
    "with open(\"/home/donaldo9603/workspace/numeric/data/evouna/few_shot/1201TQ_train_expansion.json\", 'w') as f:\n",
    "    json.dump(tq_few,f)"
   ]
  },
  {
   "cell_type": "code",
   "execution_count": null,
   "id": "9085d39a",
   "metadata": {},
   "outputs": [],
   "source": []
  }
 ],
 "metadata": {
  "kernelspec": {
   "display_name": "Python [conda:.conda-numeric]",
   "language": "python",
   "name": "conda-env-.conda-numeric-py"
  },
  "language_info": {
   "codemirror_mode": {
    "name": "ipython",
    "version": 3
   },
   "file_extension": ".py",
   "mimetype": "text/x-python",
   "name": "python",
   "nbconvert_exporter": "python",
   "pygments_lexer": "ipython3",
   "version": "3.11.5"
  }
 },
 "nbformat": 4,
 "nbformat_minor": 5
}
