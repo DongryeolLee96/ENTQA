{
 "cells": [
  {
   "cell_type": "code",
   "execution_count": 43,
   "id": "fd3f399b",
   "metadata": {},
   "outputs": [],
   "source": [
    "import json\n",
    "import jsonlines"
   ]
  },
  {
   "cell_type": "code",
   "execution_count": 44,
   "id": "64420865",
   "metadata": {},
   "outputs": [],
   "source": [
    "from eval import normalize_answer"
   ]
  },
  {
   "cell_type": "code",
   "execution_count": 45,
   "id": "23c47346",
   "metadata": {},
   "outputs": [],
   "source": [
    "import random"
   ]
  },
  {
   "cell_type": "code",
   "execution_count": 57,
   "id": "7391ec4f",
   "metadata": {},
   "outputs": [],
   "source": [
    "data_dir='/home/donaldo9603/workspace/numeric/data/ours/numeric_dev.json'\n",
    "data_dir2='/home/donaldo9603/workspace/numeric/data/ours/numeric_dev.jsonl'"
   ]
  },
  {
   "cell_type": "code",
   "execution_count": 58,
   "id": "5ea647cd",
   "metadata": {},
   "outputs": [],
   "source": [
    "train_jsonl=[]\n",
    "with jsonlines.open('/home/donaldo9603/workspace/numeric/data/ours/numeric_train.jsonl') as f:\n",
    "    for line in f:\n",
    "        train_jsonl.append(line)"
   ]
  },
  {
   "cell_type": "code",
   "execution_count": 59,
   "id": "9b3835a0",
   "metadata": {},
   "outputs": [
    {
     "data": {
      "text/plain": [
       "22967"
      ]
     },
     "execution_count": 59,
     "metadata": {},
     "output_type": "execute_result"
    }
   ],
   "source": [
    "len(train_jsonl)"
   ]
  },
  {
   "cell_type": "code",
   "execution_count": 60,
   "id": "2c404a34",
   "metadata": {},
   "outputs": [],
   "source": [
    "with open(data_dir) as f:\n",
    "    data1=json.load(f)\n",
    "\n",
    "data2=[]\n",
    "with jsonlines.open(data_dir2) as f:\n",
    "    for line in f:\n",
    "        data2.append(line)"
   ]
  },
  {
   "cell_type": "code",
   "execution_count": 61,
   "id": "62c9478a",
   "metadata": {},
   "outputs": [
    {
     "data": {
      "text/plain": [
       "2852"
      ]
     },
     "execution_count": 61,
     "metadata": {},
     "output_type": "execute_result"
    }
   ],
   "source": [
    "len(data2)"
   ]
  },
  {
   "cell_type": "code",
   "execution_count": 62,
   "id": "ade7c91b",
   "metadata": {},
   "outputs": [
    {
     "data": {
      "text/plain": [
       "{'question': 'when did the florin cease to be legal tender',\n",
       " 'answer': ['30 June 1993'],\n",
       " 'ans_type': 'DATE',\n",
       " 'ans_pos': ['30/06/1993',\n",
       "  '1993-06-30',\n",
       "  'Jun 1993',\n",
       "  'in 1993',\n",
       "  'June 30th, 1993'],\n",
       " 'sen_pos': ['Florin ceased to be legal tender on June 30th, 1993'],\n",
       " 'ans_neg': ['25 June 1993',\n",
       "  '30 november 1993',\n",
       "  '30 June 2003',\n",
       "  '34/06/1993',\n",
       "  '30/2/1993',\n",
       "  '30/06/1989',\n",
       "  '1988-06-30',\n",
       "  '1993-7-30',\n",
       "  '1993-06-27',\n",
       "  'jan 1993',\n",
       "  'Jun 1974',\n",
       "  'in 1999',\n",
       "  'august 30th, 1993',\n",
       "  'June 30th, 2003']}"
      ]
     },
     "execution_count": 62,
     "metadata": {},
     "output_type": "execute_result"
    }
   ],
   "source": [
    "data1[0]"
   ]
  },
  {
   "cell_type": "code",
   "execution_count": 63,
   "id": "3a3f9b9e",
   "metadata": {},
   "outputs": [
    {
     "data": {
      "text/plain": [
       "{'question': 'when did the florin cease to be legal tender',\n",
       " 'reference': '30 June 1993',\n",
       " 'candidate': '30/06/1993',\n",
       " 'score': 1.0}"
      ]
     },
     "execution_count": 63,
     "metadata": {},
     "output_type": "execute_result"
    }
   ],
   "source": [
    "data2[0]"
   ]
  },
  {
   "cell_type": "markdown",
   "id": "33f18208",
   "metadata": {},
   "source": [
    "### Positive sample addition"
   ]
  },
  {
   "cell_type": "code",
   "execution_count": 116,
   "id": "4ee02285",
   "metadata": {},
   "outputs": [],
   "source": [
    "for d in data1:\n",
    "    dic={}\n",
    "    dic['question']=d['question']\n",
    "    dic['reference']=d['answer'][0]\n",
    "    dic['candidate']=d['answer'][0]\n",
    "    dic['score']=1.0\n",
    "    data2.append(dic)"
   ]
  },
  {
   "cell_type": "code",
   "execution_count": 131,
   "id": "da3cabf4",
   "metadata": {},
   "outputs": [],
   "source": [
    "with open('/home/donaldo9603/workspace/numeric/data/ours/numeric_dev_230926.jsonl', 'w') as f:\n",
    "    for entry in data2:\n",
    "        json.dump(entry, f)\n",
    "        f.write('\\n')"
   ]
  },
  {
   "cell_type": "code",
   "execution_count": 120,
   "id": "45e1b4bb",
   "metadata": {},
   "outputs": [],
   "source": [
    "train_dir='/home/donaldo9603/workspace/numeric/data/ours/numeric_train.json'"
   ]
  },
  {
   "cell_type": "code",
   "execution_count": 121,
   "id": "19fdf847",
   "metadata": {},
   "outputs": [],
   "source": [
    "with open(train_dir) as f:\n",
    "    train=json.load(f)\n"
   ]
  },
  {
   "cell_type": "code",
   "execution_count": 125,
   "id": "68074c61",
   "metadata": {},
   "outputs": [],
   "source": [
    "for d in train:\n",
    "    dic={}\n",
    "    dic['question']=d['question']\n",
    "    dic['reference']=d['answer'][0]\n",
    "    dic['candidate']=d['answer'][0]\n",
    "    dic['score']=1.0\n",
    "    train_jsonl.append(dic)"
   ]
  },
  {
   "cell_type": "code",
   "execution_count": 132,
   "id": "46d7fc92",
   "metadata": {},
   "outputs": [],
   "source": [
    "with open('/home/donaldo9603/workspace/numeric/data/ours/numeric_train_230926.jsonl', 'w') as f:\n",
    "    for entry in train_jsonl:\n",
    "        json.dump(entry, f)\n",
    "        f.write('\\n')"
   ]
  },
  {
   "cell_type": "markdown",
   "id": "71f630c4",
   "metadata": {},
   "source": [
    "### Negative Sentence sample expansion"
   ]
  },
  {
   "cell_type": "code",
   "execution_count": 53,
   "id": "fc11e886",
   "metadata": {},
   "outputs": [
    {
     "data": {
      "text/plain": [
       "{'question': 'when did the florin cease to be legal tender',\n",
       " 'answer': ['30 June 1993'],\n",
       " 'ans_type': 'DATE',\n",
       " 'ans_pos': ['30/06/1993',\n",
       "  '1993-06-30',\n",
       "  'Jun 1993',\n",
       "  'in 1993',\n",
       "  'June 30th, 1993'],\n",
       " 'sen_pos': ['Florin ceased to be legal tender on June 30th, 1993'],\n",
       " 'ans_neg': ['25 June 1993',\n",
       "  '30 november 1993',\n",
       "  '30 June 2003',\n",
       "  '34/06/1993',\n",
       "  '30/2/1993',\n",
       "  '30/06/1989',\n",
       "  '1988-06-30',\n",
       "  '1993-7-30',\n",
       "  '1993-06-27',\n",
       "  'jan 1993',\n",
       "  'Jun 1974',\n",
       "  'in 1999',\n",
       "  'august 30th, 1993',\n",
       "  'June 30th, 2003']}"
      ]
     },
     "execution_count": 53,
     "metadata": {},
     "output_type": "execute_result"
    }
   ],
   "source": [
    "data1[0]"
   ]
  },
  {
   "cell_type": "code",
   "execution_count": 64,
   "id": "459daffa",
   "metadata": {},
   "outputs": [
    {
     "name": "stdout",
     "output_type": "stream",
     "text": [
      "291\n"
     ]
    }
   ],
   "source": [
    "cnt=0\n",
    "for d in data1:\n",
    "    pos_ans=[]\n",
    "    negative_sen=[]\n",
    "    pos_ans.extend(d['answer'])\n",
    "    pos_ans.extend(d['ans_pos'])\n",
    "    \n",
    "    gold_in_sen=False\n",
    "    \n",
    "    # Find gold answer presentend in Positive sentence\n",
    "    for idx, ans in enumerate(pos_ans):\n",
    "        if ans in d['sen_pos'][0]:\n",
    "            gold_in_sen=True\n",
    "            gold_idx=idx\n",
    "            gold_ans=ans\n",
    "    \n",
    "    if gold_in_sen:\n",
    "        cnt+=1\n",
    "        # Positive sentence extend\n",
    "        for ans in (pos_ans):\n",
    "            if gold_ans!=ans:\n",
    "                d['sen_pos'].append(d['sen_pos'][0].replace(gold_ans, ans))\n",
    "        \n",
    "        # Negative sentence extend\n",
    "        for ans in d['ans_neg']:\n",
    "            negative_sen.append(d['sen_pos'][0].replace(gold_ans, ans))\n",
    "\n",
    "        d['sen_neg']=negative_sen\n",
    "print(cnt)"
   ]
  },
  {
   "cell_type": "markdown",
   "id": "b7d08338",
   "metadata": {},
   "source": [
    "### To Jsonl format ({'Question': '', ''reference}: '', 'candidate': '', 'score': 1.0 or 0.0)"
   ]
  },
  {
   "cell_type": "code",
   "execution_count": 65,
   "id": "ce68b54c",
   "metadata": {},
   "outputs": [
    {
     "name": "stdout",
     "output_type": "stream",
     "text": [
      "3205\n"
     ]
    }
   ],
   "source": [
    "dev_jsonl=[]\n",
    "for d in data1:\n",
    "    if 'sen_pos' in d.keys():\n",
    "        for pos_sen in d['sen_pos']:\n",
    "            dic={}\n",
    "            dic['question']=d['question']\n",
    "            dic['reference']=d['answer'][0]\n",
    "            dic['candidate']=pos_sen\n",
    "            dic['score']=1.0\n",
    "            dev_jsonl.append(dic)\n",
    "\n",
    "    if 'sen_neg' in d.keys():\n",
    "        for neg_sen in d['sen_neg']:\n",
    "            dic={}\n",
    "            dic['question']=d['question']\n",
    "            dic['reference']=d['answer'][0]\n",
    "            dic['candidate']=neg_sen\n",
    "            dic['score']=0.0\n",
    "            dev_jsonl.append(dic)\n",
    "    \n",
    "    dic={}\n",
    "    dic['question']=d['question']\n",
    "    dic['reference']=d['answer'][0]\n",
    "    dic['candidate']=d['answer'][0]\n",
    "    dic['score']=1.0\n",
    "    dev_jsonl.append(dic)\n",
    "    \n",
    "print(len(dev_jsonl))\n",
    "    "
   ]
  },
  {
   "cell_type": "code",
   "execution_count": 66,
   "id": "8fc18e1b",
   "metadata": {},
   "outputs": [
    {
     "data": {
      "text/plain": [
       "[{'question': 'when did the florin cease to be legal tender',\n",
       "  'reference': '30 June 1993',\n",
       "  'candidate': 'Florin ceased to be legal tender on June 30th, 1993',\n",
       "  'score': 1.0},\n",
       " {'question': 'when did the florin cease to be legal tender',\n",
       "  'reference': '30 June 1993',\n",
       "  'candidate': 'Florin ceased to be legal tender on 30 June 1993',\n",
       "  'score': 1.0},\n",
       " {'question': 'when did the florin cease to be legal tender',\n",
       "  'reference': '30 June 1993',\n",
       "  'candidate': 'Florin ceased to be legal tender on 30/06/1993',\n",
       "  'score': 1.0},\n",
       " {'question': 'when did the florin cease to be legal tender',\n",
       "  'reference': '30 June 1993',\n",
       "  'candidate': 'Florin ceased to be legal tender on 1993-06-30',\n",
       "  'score': 1.0},\n",
       " {'question': 'when did the florin cease to be legal tender',\n",
       "  'reference': '30 June 1993',\n",
       "  'candidate': 'Florin ceased to be legal tender on Jun 1993',\n",
       "  'score': 1.0},\n",
       " {'question': 'when did the florin cease to be legal tender',\n",
       "  'reference': '30 June 1993',\n",
       "  'candidate': 'Florin ceased to be legal tender on in 1993',\n",
       "  'score': 1.0},\n",
       " {'question': 'when did the florin cease to be legal tender',\n",
       "  'reference': '30 June 1993',\n",
       "  'candidate': 'Florin ceased to be legal tender on 25 June 1993',\n",
       "  'score': 0.0},\n",
       " {'question': 'when did the florin cease to be legal tender',\n",
       "  'reference': '30 June 1993',\n",
       "  'candidate': 'Florin ceased to be legal tender on 30 november 1993',\n",
       "  'score': 0.0},\n",
       " {'question': 'when did the florin cease to be legal tender',\n",
       "  'reference': '30 June 1993',\n",
       "  'candidate': 'Florin ceased to be legal tender on 30 June 2003',\n",
       "  'score': 0.0},\n",
       " {'question': 'when did the florin cease to be legal tender',\n",
       "  'reference': '30 June 1993',\n",
       "  'candidate': 'Florin ceased to be legal tender on 34/06/1993',\n",
       "  'score': 0.0},\n",
       " {'question': 'when did the florin cease to be legal tender',\n",
       "  'reference': '30 June 1993',\n",
       "  'candidate': 'Florin ceased to be legal tender on 30/2/1993',\n",
       "  'score': 0.0},\n",
       " {'question': 'when did the florin cease to be legal tender',\n",
       "  'reference': '30 June 1993',\n",
       "  'candidate': 'Florin ceased to be legal tender on 30/06/1989',\n",
       "  'score': 0.0},\n",
       " {'question': 'when did the florin cease to be legal tender',\n",
       "  'reference': '30 June 1993',\n",
       "  'candidate': 'Florin ceased to be legal tender on 1988-06-30',\n",
       "  'score': 0.0},\n",
       " {'question': 'when did the florin cease to be legal tender',\n",
       "  'reference': '30 June 1993',\n",
       "  'candidate': 'Florin ceased to be legal tender on 1993-7-30',\n",
       "  'score': 0.0},\n",
       " {'question': 'when did the florin cease to be legal tender',\n",
       "  'reference': '30 June 1993',\n",
       "  'candidate': 'Florin ceased to be legal tender on 1993-06-27',\n",
       "  'score': 0.0},\n",
       " {'question': 'when did the florin cease to be legal tender',\n",
       "  'reference': '30 June 1993',\n",
       "  'candidate': 'Florin ceased to be legal tender on jan 1993',\n",
       "  'score': 0.0},\n",
       " {'question': 'when did the florin cease to be legal tender',\n",
       "  'reference': '30 June 1993',\n",
       "  'candidate': 'Florin ceased to be legal tender on Jun 1974',\n",
       "  'score': 0.0},\n",
       " {'question': 'when did the florin cease to be legal tender',\n",
       "  'reference': '30 June 1993',\n",
       "  'candidate': 'Florin ceased to be legal tender on in 1999',\n",
       "  'score': 0.0},\n",
       " {'question': 'when did the florin cease to be legal tender',\n",
       "  'reference': '30 June 1993',\n",
       "  'candidate': 'Florin ceased to be legal tender on august 30th, 1993',\n",
       "  'score': 0.0},\n",
       " {'question': 'when did the florin cease to be legal tender',\n",
       "  'reference': '30 June 1993',\n",
       "  'candidate': 'Florin ceased to be legal tender on June 30th, 2003',\n",
       "  'score': 0.0},\n",
       " {'question': 'when did the florin cease to be legal tender',\n",
       "  'reference': '30 June 1993',\n",
       "  'candidate': '30 June 1993',\n",
       "  'score': 1.0},\n",
       " {'question': 'when did the us enter the vietnam war start',\n",
       "  'reference': '1955',\n",
       "  'candidate': 'US entered the Vietnam War in 1955',\n",
       "  'score': 1.0},\n",
       " {'question': 'when did the us enter the vietnam war start',\n",
       "  'reference': '1955',\n",
       "  'candidate': 'US entered the Vietnam War 1955',\n",
       "  'score': 1.0},\n",
       " {'question': 'when did the us enter the vietnam war start',\n",
       "  'reference': '1955',\n",
       "  'candidate': 'US entered the Vietnam War during the 1950s',\n",
       "  'score': 1.0},\n",
       " {'question': 'when did the us enter the vietnam war start',\n",
       "  'reference': '1955',\n",
       "  'candidate': 'US entered the Vietnam War in mid 1950s',\n",
       "  'score': 1.0},\n",
       " {'question': 'when did the us enter the vietnam war start',\n",
       "  'reference': '1955',\n",
       "  'candidate': 'US entered the Vietnam War in the mid 1950s',\n",
       "  'score': 1.0},\n",
       " {'question': 'when did the us enter the vietnam war start',\n",
       "  'reference': '1955',\n",
       "  'candidate': 'US entered the Vietnam War 1947',\n",
       "  'score': 0.0},\n",
       " {'question': 'when did the us enter the vietnam war start',\n",
       "  'reference': '1955',\n",
       "  'candidate': 'US entered the Vietnam War in 1947',\n",
       "  'score': 0.0},\n",
       " {'question': 'when did the us enter the vietnam war start',\n",
       "  'reference': '1955',\n",
       "  'candidate': '1955',\n",
       "  'score': 1.0},\n",
       " {'question': 'when is survivor david vs goliath coming out',\n",
       "  'reference': 'September 26, 2018',\n",
       "  'candidate': 'Survivor David vs Goliath coming out in September 26, 2018',\n",
       "  'score': 1.0}]"
      ]
     },
     "execution_count": 66,
     "metadata": {},
     "output_type": "execute_result"
    }
   ],
   "source": [
    "dev_jsonl[:30]"
   ]
  },
  {
   "cell_type": "code",
   "execution_count": 67,
   "id": "046c0a57",
   "metadata": {},
   "outputs": [],
   "source": [
    "with open('/home/donaldo9603/workspace/numeric/data/ours/numeric_sentence_dev.jsonl', 'w') as f:\n",
    "    for entry in dev_jsonl:\n",
    "        json.dump(entry, f)\n",
    "        f.write('\\n')"
   ]
  },
  {
   "cell_type": "markdown",
   "id": "b975e9ce",
   "metadata": {},
   "source": [
    "### Train set expansion"
   ]
  },
  {
   "cell_type": "code",
   "execution_count": 36,
   "id": "3dd0f675",
   "metadata": {},
   "outputs": [],
   "source": [
    "train_dir='/home/donaldo9603/workspace/numeric/data/ours/numeric_train.json'"
   ]
  },
  {
   "cell_type": "code",
   "execution_count": 37,
   "id": "1de273f7",
   "metadata": {},
   "outputs": [],
   "source": [
    "with open(train_dir) as f:\n",
    "    train=json.load(f)\n"
   ]
  },
  {
   "cell_type": "code",
   "execution_count": 38,
   "id": "9abb4321",
   "metadata": {},
   "outputs": [
    {
     "data": {
      "text/plain": [
       "2756"
      ]
     },
     "execution_count": 38,
     "metadata": {},
     "output_type": "execute_result"
    }
   ],
   "source": [
    "len(train)"
   ]
  },
  {
   "cell_type": "code",
   "execution_count": 39,
   "id": "250dbcf9",
   "metadata": {},
   "outputs": [
    {
     "name": "stdout",
     "output_type": "stream",
     "text": [
      "2407\n"
     ]
    }
   ],
   "source": [
    "cnt=0\n",
    "for d in train:\n",
    "    pos_ans=[]\n",
    "    negative_sen=[]\n",
    "    pos_ans.extend(d['answer'])\n",
    "    pos_ans.extend(d['ans_pos'])\n",
    "    \n",
    "    gold_in_sen=False\n",
    "    \n",
    "    # Find gold answer presentend in Positive sentence\n",
    "    for idx, ans in enumerate(pos_ans):\n",
    "        if ans in d['sen_pos'][0]:\n",
    "            gold_in_sen=True\n",
    "            gold_idx=idx\n",
    "            gold_ans=ans\n",
    "    \n",
    "    if gold_in_sen:\n",
    "        cnt+=1\n",
    "        # Positive sentence extend\n",
    "        for ans in (pos_ans):\n",
    "            if gold_ans!=ans:\n",
    "                d['sen_pos'].append(d['sen_pos'][0].replace(gold_ans, ans))\n",
    "        \n",
    "        # Negative sentence extend\n",
    "        for ans in d['ans_neg']:\n",
    "            negative_sen.append(d['sen_pos'][0].replace(gold_ans, ans))\n",
    "\n",
    "        d['sen_neg']=negative_sen\n",
    "print(cnt)"
   ]
  },
  {
   "cell_type": "markdown",
   "id": "83ba7e64",
   "metadata": {},
   "source": [
    "### To Jsonl format ({'Question': '', ''reference}: '', 'candidate': '', 'score': 1.0 or 0.0)"
   ]
  },
  {
   "cell_type": "code",
   "execution_count": 40,
   "id": "5232a6ea",
   "metadata": {},
   "outputs": [
    {
     "name": "stdout",
     "output_type": "stream",
     "text": [
      "25831\n"
     ]
    }
   ],
   "source": [
    "train_jsonl=[]\n",
    "for d in train:\n",
    "    if 'sen_pos' in d.keys():\n",
    "        for pos_sen in d['sen_pos']:\n",
    "            dic={}\n",
    "            dic['question']=d['question']\n",
    "            dic['reference']=d['answer'][0]\n",
    "            dic['candidate']=pos_sen\n",
    "            dic['score']=1.0\n",
    "            train_jsonl.append(dic)\n",
    "\n",
    "    if 'sen_neg' in d.keys():\n",
    "        for neg_sen in d['sen_neg']:\n",
    "            dic={}\n",
    "            dic['question']=d['question']\n",
    "            dic['reference']=d['answer'][0]\n",
    "            dic['candidate']=neg_sen\n",
    "            dic['score']=0.0\n",
    "            train_jsonl.append(dic)\n",
    "    \n",
    "    dic={}\n",
    "    dic['question']=d['question']\n",
    "    dic['reference']=d['answer'][0]\n",
    "    dic['candidate']=d['answer'][0]\n",
    "    dic['score']=1.0\n",
    "    train_jsonl.append(dic)\n",
    "    \n",
    "print(len(train_jsonl))\n",
    "    "
   ]
  },
  {
   "cell_type": "code",
   "execution_count": 41,
   "id": "ad8d7c67",
   "metadata": {},
   "outputs": [
    {
     "data": {
      "text/plain": [
       "[{'question': \"when's the last time the eagles went to the playoffs\",\n",
       "  'reference': '2017',\n",
       "  'candidate': 'The Eagles went to the playoffs last in 2017',\n",
       "  'score': 1.0},\n",
       " {'question': \"when's the last time the eagles went to the playoffs\",\n",
       "  'reference': '2017',\n",
       "  'candidate': 'The Eagles went to the playoffs last 2017',\n",
       "  'score': 1.0},\n",
       " {'question': \"when's the last time the eagles went to the playoffs\",\n",
       "  'reference': '2017',\n",
       "  'candidate': 'The Eagles went to the playoffs last 2017-01-01',\n",
       "  'score': 1.0},\n",
       " {'question': \"when's the last time the eagles went to the playoffs\",\n",
       "  'reference': '2017',\n",
       "  'candidate': 'The Eagles went to the playoffs last 01/01/2017',\n",
       "  'score': 1.0},\n",
       " {'question': \"when's the last time the eagles went to the playoffs\",\n",
       "  'reference': '2017',\n",
       "  'candidate': 'The Eagles went to the playoffs last during 2017',\n",
       "  'score': 1.0},\n",
       " {'question': \"when's the last time the eagles went to the playoffs\",\n",
       "  'reference': '2017',\n",
       "  'candidate': 'The Eagles went to the playoffs last Jan 1 2017',\n",
       "  'score': 1.0},\n",
       " {'question': \"when's the last time the eagles went to the playoffs\",\n",
       "  'reference': '2017',\n",
       "  'candidate': 'The Eagles went to the playoffs last 2013',\n",
       "  'score': 0.0},\n",
       " {'question': \"when's the last time the eagles went to the playoffs\",\n",
       "  'reference': '2017',\n",
       "  'candidate': 'The Eagles went to the playoffs last 2012-01-01',\n",
       "  'score': 0.0},\n",
       " {'question': \"when's the last time the eagles went to the playoffs\",\n",
       "  'reference': '2017',\n",
       "  'candidate': 'The Eagles went to the playoffs last 227-2-2',\n",
       "  'score': 0.0},\n",
       " {'question': \"when's the last time the eagles went to the playoffs\",\n",
       "  'reference': '2017',\n",
       "  'candidate': 'The Eagles went to the playoffs last 267-6-6',\n",
       "  'score': 0.0},\n",
       " {'question': \"when's the last time the eagles went to the playoffs\",\n",
       "  'reference': '2017',\n",
       "  'candidate': 'The Eagles went to the playoffs last 6/6/267',\n",
       "  'score': 0.0},\n",
       " {'question': \"when's the last time the eagles went to the playoffs\",\n",
       "  'reference': '2017',\n",
       "  'candidate': 'The Eagles went to the playoffs last 4/4/247',\n",
       "  'score': 0.0},\n",
       " {'question': \"when's the last time the eagles went to the playoffs\",\n",
       "  'reference': '2017',\n",
       "  'candidate': 'The Eagles went to the playoffs last 01/01/2033',\n",
       "  'score': 0.0},\n",
       " {'question': \"when's the last time the eagles went to the playoffs\",\n",
       "  'reference': '2017',\n",
       "  'candidate': 'The Eagles went to the playoffs last during 2015',\n",
       "  'score': 0.0},\n",
       " {'question': \"when's the last time the eagles went to the playoffs\",\n",
       "  'reference': '2017',\n",
       "  'candidate': 'The Eagles went to the playoffs last in 2030',\n",
       "  'score': 0.0},\n",
       " {'question': \"when's the last time the eagles went to the playoffs\",\n",
       "  'reference': '2017',\n",
       "  'candidate': 'The Eagles went to the playoffs last jun 1 2017',\n",
       "  'score': 0.0},\n",
       " {'question': \"when's the last time the eagles went to the playoffs\",\n",
       "  'reference': '2017',\n",
       "  'candidate': 'The Eagles went to the playoffs last Jan 4 2047',\n",
       "  'score': 0.0},\n",
       " {'question': \"when's the last time the eagles went to the playoffs\",\n",
       "  'reference': '2017',\n",
       "  'candidate': 'The Eagles went to the playoffs last Jan 1 2004',\n",
       "  'score': 0.0},\n",
       " {'question': \"when's the last time the eagles went to the playoffs\",\n",
       "  'reference': '2017',\n",
       "  'candidate': '2017',\n",
       "  'score': 1.0},\n",
       " {'question': 'when did the vancouver grizzlies join the nba',\n",
       "  'reference': 'in 1995',\n",
       "  'candidate': 'The Vancouver Grizzlies joined the NBA in 1995',\n",
       "  'score': 1.0},\n",
       " {'question': 'when did the vancouver grizzlies join the nba',\n",
       "  'reference': 'in 1995',\n",
       "  'candidate': 'The Vancouver Grizzlies joined the NBA in in 1995',\n",
       "  'score': 1.0},\n",
       " {'question': 'when did the vancouver grizzlies join the nba',\n",
       "  'reference': 'in 1995',\n",
       "  'candidate': 'The Vancouver Grizzlies joined the NBA in mid 1990s',\n",
       "  'score': 1.0},\n",
       " {'question': 'when did the vancouver grizzlies join the nba',\n",
       "  'reference': 'in 1995',\n",
       "  'candidate': 'The Vancouver Grizzlies joined the NBA in during the mid-1990s',\n",
       "  'score': 1.0},\n",
       " {'question': 'when did the vancouver grizzlies join the nba',\n",
       "  'reference': 'in 1995',\n",
       "  'candidate': 'The Vancouver Grizzlies joined the NBA in in mid 1990s',\n",
       "  'score': 1.0},\n",
       " {'question': 'when did the vancouver grizzlies join the nba',\n",
       "  'reference': 'in 1995',\n",
       "  'candidate': 'The Vancouver Grizzlies joined the NBA in in the mid-1990s',\n",
       "  'score': 1.0},\n",
       " {'question': 'when did the vancouver grizzlies join the nba',\n",
       "  'reference': 'in 1995',\n",
       "  'candidate': 'The Vancouver Grizzlies joined the NBA in in 1978',\n",
       "  'score': 0.0},\n",
       " {'question': 'when did the vancouver grizzlies join the nba',\n",
       "  'reference': 'in 1995',\n",
       "  'candidate': 'The Vancouver Grizzlies joined the NBA in 2006',\n",
       "  'score': 0.0},\n",
       " {'question': 'when did the vancouver grizzlies join the nba',\n",
       "  'reference': 'in 1995',\n",
       "  'candidate': 'in 1995',\n",
       "  'score': 1.0},\n",
       " {'question': 'when is season 6 of a place to call home starting',\n",
       "  'reference': '19 August 2018',\n",
       "  'candidate': 'Season 6 of a Place to Call Home started on 19 August 2018',\n",
       "  'score': 1.0},\n",
       " {'question': 'when is season 6 of a place to call home starting',\n",
       "  'reference': '19 August 2018',\n",
       "  'candidate': 'Season 6 of a Place to Call Home started 19 August 2018',\n",
       "  'score': 1.0}]"
      ]
     },
     "execution_count": 41,
     "metadata": {},
     "output_type": "execute_result"
    }
   ],
   "source": [
    "train_jsonl[:30]"
   ]
  },
  {
   "cell_type": "code",
   "execution_count": 42,
   "id": "0d7063d5",
   "metadata": {},
   "outputs": [],
   "source": [
    "with open('/home/donaldo9603/workspace/numeric/data/ours/numeric_sentence_train.jsonl', 'w') as f:\n",
    "    for entry in train_jsonl:\n",
    "        json.dump(entry, f)\n",
    "        f.write('\\n')"
   ]
  },
  {
   "cell_type": "markdown",
   "id": "dfd93699",
   "metadata": {},
   "source": [
    "### Ans-Ans, Ans-Sen integration"
   ]
  },
  {
   "cell_type": "code",
   "execution_count": 69,
   "id": "1336ea7c",
   "metadata": {},
   "outputs": [],
   "source": [
    "import jsonlines"
   ]
  },
  {
   "cell_type": "code",
   "execution_count": 87,
   "id": "750cfc6d",
   "metadata": {},
   "outputs": [],
   "source": [
    "ans_dir='/home/donaldo9603/workspace/numeric/data/ours/numeric_train.jsonl'\n",
    "sen_dir='/home/donaldo9603/workspace/numeric/data/ours/numeric_sentence_train.jsonl'\n"
   ]
  },
  {
   "cell_type": "code",
   "execution_count": 88,
   "id": "b26a4b3f",
   "metadata": {},
   "outputs": [],
   "source": [
    "integ=[]\n",
    "with jsonlines.open(ans_dir) as f:\n",
    "    for line in f:\n",
    "        integ.append(line)\n",
    "\n",
    "with jsonlines.open(sen_dir) as f:\n",
    "    for line in f:\n",
    "        integ.append(line)"
   ]
  },
  {
   "cell_type": "code",
   "execution_count": 89,
   "id": "1189ebda",
   "metadata": {},
   "outputs": [
    {
     "data": {
      "text/plain": [
       "48798"
      ]
     },
     "execution_count": 89,
     "metadata": {},
     "output_type": "execute_result"
    }
   ],
   "source": [
    "len(integ)"
   ]
  },
  {
   "cell_type": "code",
   "execution_count": 92,
   "id": "3844737e",
   "metadata": {},
   "outputs": [],
   "source": [
    "with open('/home/donaldo9603/workspace/numeric/data/ours/numeric_integ_train.jsonl', 'w') as f:\n",
    "    for entry in integ:\n",
    "        json.dump(entry, f)\n",
    "        f.write('\\n')"
   ]
  },
  {
   "cell_type": "code",
   "execution_count": 90,
   "id": "7822a3d7",
   "metadata": {},
   "outputs": [
    {
     "data": {
      "text/plain": [
       "{'question': \"when's the last time the eagles went to the playoffs\",\n",
       " 'reference': '2017',\n",
       " 'candidate': '2017-01-01',\n",
       " 'score': 1.0}"
      ]
     },
     "execution_count": 90,
     "metadata": {},
     "output_type": "execute_result"
    }
   ],
   "source": [
    "integ[0]"
   ]
  },
  {
   "cell_type": "code",
   "execution_count": 91,
   "id": "672f757f",
   "metadata": {},
   "outputs": [
    {
     "name": "stdout",
     "output_type": "stream",
     "text": [
      "{'question': \"when's the last time the eagles went to the playoffs\", 'reference': '2017', 'candidate': '2017-01-01', 'score': 1.0}\n",
      "{'question': \"when's the last time the eagles went to the playoffs\", 'reference': '2017', 'candidate': '01/01/2017', 'score': 1.0}\n",
      "{'question': \"when's the last time the eagles went to the playoffs\", 'reference': '2017', 'candidate': 'during 2017', 'score': 1.0}\n",
      "{'question': \"when's the last time the eagles went to the playoffs\", 'reference': '2017', 'candidate': 'in 2017', 'score': 1.0}\n",
      "{'question': \"when's the last time the eagles went to the playoffs\", 'reference': '2017', 'candidate': 'Jan 1 2017', 'score': 1.0}\n",
      "{'question': \"when's the last time the eagles went to the playoffs\", 'reference': '2017', 'candidate': '2013', 'score': 0.0}\n",
      "{'question': \"when's the last time the eagles went to the playoffs\", 'reference': '2017', 'candidate': '2012-01-01', 'score': 0.0}\n",
      "{'question': \"when's the last time the eagles went to the playoffs\", 'reference': '2017', 'candidate': '227-2-2', 'score': 0.0}\n",
      "{'question': \"when's the last time the eagles went to the playoffs\", 'reference': '2017', 'candidate': '267-6-6', 'score': 0.0}\n",
      "{'question': \"when's the last time the eagles went to the playoffs\", 'reference': '2017', 'candidate': '6/6/267', 'score': 0.0}\n",
      "{'question': \"when's the last time the eagles went to the playoffs\", 'reference': '2017', 'candidate': '4/4/247', 'score': 0.0}\n",
      "{'question': \"when's the last time the eagles went to the playoffs\", 'reference': '2017', 'candidate': '01/01/2033', 'score': 0.0}\n",
      "{'question': \"when's the last time the eagles went to the playoffs\", 'reference': '2017', 'candidate': 'during 2015', 'score': 0.0}\n",
      "{'question': \"when's the last time the eagles went to the playoffs\", 'reference': '2017', 'candidate': 'in 2030', 'score': 0.0}\n",
      "{'question': \"when's the last time the eagles went to the playoffs\", 'reference': '2017', 'candidate': 'jun 1 2017', 'score': 0.0}\n",
      "{'question': \"when's the last time the eagles went to the playoffs\", 'reference': '2017', 'candidate': 'Jan 4 2047', 'score': 0.0}\n",
      "{'question': \"when's the last time the eagles went to the playoffs\", 'reference': '2017', 'candidate': 'Jan 1 2004', 'score': 0.0}\n",
      "{'question': \"when's the last time the eagles went to the playoffs\", 'reference': '2017', 'candidate': 'The Eagles went to the playoffs last in 2017', 'score': 1.0}\n",
      "{'question': \"when's the last time the eagles went to the playoffs\", 'reference': '2017', 'candidate': 'The Eagles went to the playoffs last 2017', 'score': 1.0}\n",
      "{'question': \"when's the last time the eagles went to the playoffs\", 'reference': '2017', 'candidate': 'The Eagles went to the playoffs last 2017-01-01', 'score': 1.0}\n",
      "{'question': \"when's the last time the eagles went to the playoffs\", 'reference': '2017', 'candidate': 'The Eagles went to the playoffs last 01/01/2017', 'score': 1.0}\n",
      "{'question': \"when's the last time the eagles went to the playoffs\", 'reference': '2017', 'candidate': 'The Eagles went to the playoffs last during 2017', 'score': 1.0}\n",
      "{'question': \"when's the last time the eagles went to the playoffs\", 'reference': '2017', 'candidate': 'The Eagles went to the playoffs last Jan 1 2017', 'score': 1.0}\n",
      "{'question': \"when's the last time the eagles went to the playoffs\", 'reference': '2017', 'candidate': 'The Eagles went to the playoffs last 2013', 'score': 0.0}\n",
      "{'question': \"when's the last time the eagles went to the playoffs\", 'reference': '2017', 'candidate': 'The Eagles went to the playoffs last 2012-01-01', 'score': 0.0}\n",
      "{'question': \"when's the last time the eagles went to the playoffs\", 'reference': '2017', 'candidate': 'The Eagles went to the playoffs last 227-2-2', 'score': 0.0}\n",
      "{'question': \"when's the last time the eagles went to the playoffs\", 'reference': '2017', 'candidate': 'The Eagles went to the playoffs last 267-6-6', 'score': 0.0}\n",
      "{'question': \"when's the last time the eagles went to the playoffs\", 'reference': '2017', 'candidate': 'The Eagles went to the playoffs last 6/6/267', 'score': 0.0}\n",
      "{'question': \"when's the last time the eagles went to the playoffs\", 'reference': '2017', 'candidate': 'The Eagles went to the playoffs last 4/4/247', 'score': 0.0}\n",
      "{'question': \"when's the last time the eagles went to the playoffs\", 'reference': '2017', 'candidate': 'The Eagles went to the playoffs last 01/01/2033', 'score': 0.0}\n",
      "{'question': \"when's the last time the eagles went to the playoffs\", 'reference': '2017', 'candidate': 'The Eagles went to the playoffs last during 2015', 'score': 0.0}\n",
      "{'question': \"when's the last time the eagles went to the playoffs\", 'reference': '2017', 'candidate': 'The Eagles went to the playoffs last in 2030', 'score': 0.0}\n",
      "{'question': \"when's the last time the eagles went to the playoffs\", 'reference': '2017', 'candidate': 'The Eagles went to the playoffs last jun 1 2017', 'score': 0.0}\n",
      "{'question': \"when's the last time the eagles went to the playoffs\", 'reference': '2017', 'candidate': 'The Eagles went to the playoffs last Jan 4 2047', 'score': 0.0}\n",
      "{'question': \"when's the last time the eagles went to the playoffs\", 'reference': '2017', 'candidate': 'The Eagles went to the playoffs last Jan 1 2004', 'score': 0.0}\n",
      "{'question': \"when's the last time the eagles went to the playoffs\", 'reference': '2017', 'candidate': '2017', 'score': 1.0}\n"
     ]
    }
   ],
   "source": [
    "for d in integ:\n",
    "    if d['question']==\"when's the last time the eagles went to the playoffs\":\n",
    "        print(d)"
   ]
  },
  {
   "cell_type": "code",
   "execution_count": null,
   "id": "64d0422e",
   "metadata": {},
   "outputs": [],
   "source": []
  }
 ],
 "metadata": {
  "kernelspec": {
   "display_name": "Python [conda:.conda-numeric]",
   "language": "python",
   "name": "conda-env-.conda-numeric-py"
  },
  "language_info": {
   "codemirror_mode": {
    "name": "ipython",
    "version": 3
   },
   "file_extension": ".py",
   "mimetype": "text/x-python",
   "name": "python",
   "nbconvert_exporter": "python",
   "pygments_lexer": "ipython3",
   "version": "3.11.5"
  }
 },
 "nbformat": 4,
 "nbformat_minor": 5
}
